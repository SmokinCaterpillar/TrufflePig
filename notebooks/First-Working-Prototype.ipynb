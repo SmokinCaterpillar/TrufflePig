{
 "cells": [
  {
   "cell_type": "code",
   "execution_count": 1,
   "metadata": {},
   "outputs": [],
   "source": [
    "import pickle\n",
    "import pandas as pd\n",
    "import numpy as np\n",
    "import re\n",
    "import langdetect\n",
    "from enchant.checker import SpellChecker"
   ]
  },
  {
   "cell_type": "markdown",
   "metadata": {},
   "source": [
    "# Data Prep"
   ]
  },
  {
   "cell_type": "code",
   "execution_count": 2,
   "metadata": {},
   "outputs": [],
   "source": [
    "with open('posts2.pkl', 'rb') as fh:\n",
    "    data = pickle.load(fh)\n",
    "del data['block_nums']"
   ]
  },
  {
   "cell_type": "code",
   "execution_count": 3,
   "metadata": {},
   "outputs": [
    {
     "data": {
      "text/html": [
       "<div>\n",
       "<style scoped>\n",
       "    .dataframe tbody tr th:only-of-type {\n",
       "        vertical-align: middle;\n",
       "    }\n",
       "\n",
       "    .dataframe tbody tr th {\n",
       "        vertical-align: top;\n",
       "    }\n",
       "\n",
       "    .dataframe thead th {\n",
       "        text-align: right;\n",
       "    }\n",
       "</style>\n",
       "<table border=\"1\" class=\"dataframe\">\n",
       "  <thead>\n",
       "    <tr style=\"text-align: right;\">\n",
       "      <th></th>\n",
       "      <th>body</th>\n",
       "      <th>created_at</th>\n",
       "      <th>post</th>\n",
       "      <th>reward</th>\n",
       "      <th>tags</th>\n",
       "      <th>title</th>\n",
       "    </tr>\n",
       "  </thead>\n",
       "  <tbody>\n",
       "    <tr>\n",
       "      <th>0</th>\n",
       "      <td>![image](https://img.esteem.ws/wsuuxa7xk4.jpg)...</td>\n",
       "      <td>2018-01-15 21:17:42</td>\n",
       "      <td>(yatsuk.kostia, dessert-home-bounty-eating-tha...</td>\n",
       "      <td>2.684</td>\n",
       "      <td>(food, food, recipe, photo, art, blog)</td>\n",
       "      <td>Dessert: home bounty. Eating that is very tasty!</td>\n",
       "    </tr>\n",
       "    <tr>\n",
       "      <th>1</th>\n",
       "      <td>#### Details\\nPadlock is an open source androi...</td>\n",
       "      <td>2018-01-15 21:03:30</td>\n",
       "      <td>(mutluhan, padlock-mobile-app-new-logo-design)</td>\n",
       "      <td>24.291</td>\n",
       "      <td>(utopian-io, utopian-io, graphics, design, log...</td>\n",
       "      <td>Padlock, Mobile App New Logo Design</td>\n",
       "    </tr>\n",
       "    <tr>\n",
       "      <th>2</th>\n",
       "      <td>![31050144-interior-of-busy-architect-s-office...</td>\n",
       "      <td>2018-01-15 21:17:42</td>\n",
       "      <td>(ankunda, get-a-skill-not-qualifications)</td>\n",
       "      <td>0.000</td>\n",
       "      <td>(get, get, a, skill, not, qualifications)</td>\n",
       "      <td>\"Get a Skill not Qualifications \"</td>\n",
       "    </tr>\n",
       "    <tr>\n",
       "      <th>3</th>\n",
       "      <td>![images (17).jpg](https://steemitimages.com/D...</td>\n",
       "      <td>2018-01-15 21:17:51</td>\n",
       "      <td>(belemo, getting-over-story-part-4-blind-and-d...</td>\n",
       "      <td>0.000</td>\n",
       "      <td>(stach, stach, story, love, writing, blog)</td>\n",
       "      <td>Getting Over(Story) Part 4: Blind and Disillus...</td>\n",
       "    </tr>\n",
       "    <tr>\n",
       "      <th>4</th>\n",
       "      <td>&lt;center&gt;&lt;a href='https://d.tube/#!/v/greyjay26...</td>\n",
       "      <td>2018-01-15 21:17:51</td>\n",
       "      <td>(greyjay265, vq01dxzf)</td>\n",
       "      <td>0.028</td>\n",
       "      <td>(dtube, dtube, bitcoin, cryptocurrency, altcoi...</td>\n",
       "      <td>LETS GET RICH. TOP 5 ALTCOINS MAY CHANGE YOUR ...</td>\n",
       "    </tr>\n",
       "  </tbody>\n",
       "</table>\n",
       "</div>"
      ],
      "text/plain": [
       "                                                body          created_at  \\\n",
       "0  ![image](https://img.esteem.ws/wsuuxa7xk4.jpg)... 2018-01-15 21:17:42   \n",
       "1  #### Details\\nPadlock is an open source androi... 2018-01-15 21:03:30   \n",
       "2  ![31050144-interior-of-busy-architect-s-office... 2018-01-15 21:17:42   \n",
       "3  ![images (17).jpg](https://steemitimages.com/D... 2018-01-15 21:17:51   \n",
       "4  <center><a href='https://d.tube/#!/v/greyjay26... 2018-01-15 21:17:51   \n",
       "\n",
       "                                                post  reward  \\\n",
       "0  (yatsuk.kostia, dessert-home-bounty-eating-tha...   2.684   \n",
       "1     (mutluhan, padlock-mobile-app-new-logo-design)  24.291   \n",
       "2          (ankunda, get-a-skill-not-qualifications)   0.000   \n",
       "3  (belemo, getting-over-story-part-4-blind-and-d...   0.000   \n",
       "4                             (greyjay265, vq01dxzf)   0.028   \n",
       "\n",
       "                                                tags  \\\n",
       "0             (food, food, recipe, photo, art, blog)   \n",
       "1  (utopian-io, utopian-io, graphics, design, log...   \n",
       "2          (get, get, a, skill, not, qualifications)   \n",
       "3         (stach, stach, story, love, writing, blog)   \n",
       "4  (dtube, dtube, bitcoin, cryptocurrency, altcoi...   \n",
       "\n",
       "                                               title  \n",
       "0   Dessert: home bounty. Eating that is very tasty!  \n",
       "1                Padlock, Mobile App New Logo Design  \n",
       "2                  \"Get a Skill not Qualifications \"  \n",
       "3  Getting Over(Story) Part 4: Blind and Disillus...  \n",
       "4  LETS GET RICH. TOP 5 ALTCOINS MAY CHANGE YOUR ...  "
      ]
     },
     "execution_count": 3,
     "metadata": {},
     "output_type": "execute_result"
    }
   ],
   "source": [
    "post_df = pd.DataFrame(data)\n",
    "post_df.head()"
   ]
  },
  {
   "cell_type": "code",
   "execution_count": 4,
   "metadata": {},
   "outputs": [
    {
     "data": {
      "text/plain": [
       "'Lookat , yes , and '"
      ]
     },
     "execution_count": 4,
     "metadata": {},
     "output_type": "execute_result"
    }
   ],
   "source": [
    "def filter_images_and_links(text):\n",
    "    return re.sub('!?\\[[-a-zA-Z0-9?@: %._\\+~#=/()]*\\]\\([-a-zA-Z0-9?@:%._\\+~#=/()]+\\)', '', text)\n",
    "\n",
    "filter_images_and_links('Lookat ![j kjds](wehwjrkjewrk.de), yes [iii](jlkajddjsla), and '\n",
    "                        '![images (17).jpg](https://steemitimages.com/DQmQF5BxHtPdPu1yKipV67GpnRdzemPpEFCqB59kVXC6Ahy/images%20(17).jpg)')"
   ]
  },
  {
   "cell_type": "code",
   "execution_count": 5,
   "metadata": {},
   "outputs": [
    {
     "data": {
      "text/plain": [
       "'hi'"
      ]
     },
     "execution_count": 5,
     "metadata": {},
     "output_type": "execute_result"
    }
   ],
   "source": [
    "def filter_html_tags(text):\n",
    "    return re.sub('</?[a-z]{1,11}>', '', text)\n",
    "\n",
    "filter_html_tags('<jkdjdksakd>hi</img>')"
   ]
  },
  {
   "cell_type": "code",
   "execution_count": 6,
   "metadata": {},
   "outputs": [
    {
     "data": {
      "text/plain": [
       "'I like '"
      ]
     },
     "execution_count": 6,
     "metadata": {},
     "output_type": "execute_result"
    }
   ],
   "source": [
    "def filter_urls(text):\n",
    "    return re.sub('(https?:\\/\\/(?:www\\.|(?!www))[a-zA-Z0-9]'\n",
    "                   '[a-zA-Z0-9-]+[a-zA-Z0-9]\\.[^\\s]{2,}|www\\.'\n",
    "                   '[a-zA-Z0-9][a-zA-Z0-9-]+[a-zA-Z0-9]\\.[^\\s]{2,}'\n",
    "                   '|https?:\\/\\/(?:www\\.|(?!www))[a-zA-Z0-9]\\.[^\\s]'\n",
    "                   '{2,}|www\\.[a-zA-Z0-9]\\.[^\\s]{2,})', '', text)\n",
    "\n",
    "filter_urls('I like www.pipes.com')"
   ]
  },
  {
   "cell_type": "code",
   "execution_count": 7,
   "metadata": {},
   "outputs": [
    {
     "data": {
      "text/plain": [
       "'Hi \\n\\n\\t!!!.'"
      ]
     },
     "execution_count": 7,
     "metadata": {},
     "output_type": "execute_result"
    }
   ],
   "source": [
    "def filter_special_characters(text):\n",
    "    return re.sub('[^A-Za-z0-9\\s;,.?!]+', '', text)\n",
    "\n",
    "filter_special_characters('Hi//)(&(/%( \\n\\n\\t)))\"\"\"\"\"\"!!!.')"
   ]
  },
  {
   "cell_type": "code",
   "execution_count": 8,
   "metadata": {},
   "outputs": [
    {
     "data": {
      "text/plain": [
       "'Hi hey     kk'"
      ]
     },
     "execution_count": 8,
     "metadata": {},
     "output_type": "execute_result"
    }
   ],
   "source": [
    "def filter_formatting(text):\n",
    "    text = re.sub('&?nbsp', ' ',text)\n",
    "    text = re.sub('aligncenter', '', text)\n",
    "    text = re.sub('styletextalign', '', text)\n",
    "    return text\n",
    "\n",
    "filter_formatting('Hi&nbsphey aligncenter nbsp styletextalign kk')"
   ]
  },
  {
   "cell_type": "code",
   "execution_count": 9,
   "metadata": {},
   "outputs": [
    {
     "data": {
      "text/plain": [
       "3"
      ]
     },
     "execution_count": 9,
     "metadata": {},
     "output_type": "execute_result"
    }
   ],
   "source": [
    "def count_paragraphs(text):\n",
    "    return text.count('\\n\\n') + 1\n",
    "\n",
    "count_paragraphs('Hello \\n\\n World \\n\\n\\n !')"
   ]
  },
  {
   "cell_type": "code",
   "execution_count": 10,
   "metadata": {},
   "outputs": [
    {
     "data": {
      "text/plain": [
       "'Hi ee'"
      ]
     },
     "execution_count": 10,
     "metadata": {},
     "output_type": "execute_result"
    }
   ],
   "source": [
    "def replace_newlines(text):\n",
    "    return re.sub('\\s+', ' ', text)\n",
    "\n",
    "replace_newlines('Hi \\n\\n\\tee')"
   ]
  },
  {
   "cell_type": "code",
   "execution_count": 11,
   "metadata": {
    "scrolled": false
   },
   "outputs": [
    {
     "name": "stdout",
     "output_type": "stream",
     "text": [
      "Filtering images\n",
      "Filtering html\n",
      "Filtering urls\n",
      "Filtering formatting\n",
      "Filtering special characters\n",
      "Counting paragraphs\n",
      "Calculating length\n"
     ]
    },
    {
     "data": {
      "text/html": [
       "<div>\n",
       "<style scoped>\n",
       "    .dataframe tbody tr th:only-of-type {\n",
       "        vertical-align: middle;\n",
       "    }\n",
       "\n",
       "    .dataframe tbody tr th {\n",
       "        vertical-align: top;\n",
       "    }\n",
       "\n",
       "    .dataframe thead th {\n",
       "        text-align: right;\n",
       "    }\n",
       "</style>\n",
       "<table border=\"1\" class=\"dataframe\">\n",
       "  <thead>\n",
       "    <tr style=\"text-align: right;\">\n",
       "      <th></th>\n",
       "      <th>body</th>\n",
       "      <th>created_at</th>\n",
       "      <th>post</th>\n",
       "      <th>reward</th>\n",
       "      <th>tags</th>\n",
       "      <th>title</th>\n",
       "      <th>filtered_body</th>\n",
       "      <th>paragraphs</th>\n",
       "      <th>length</th>\n",
       "    </tr>\n",
       "  </thead>\n",
       "  <tbody>\n",
       "    <tr>\n",
       "      <th>0</th>\n",
       "      <td>![image](https://img.esteem.ws/wsuuxa7xk4.jpg)...</td>\n",
       "      <td>2018-01-15 21:17:42</td>\n",
       "      <td>(yatsuk.kostia, dessert-home-bounty-eating-tha...</td>\n",
       "      <td>2.684</td>\n",
       "      <td>(food, food, recipe, photo, art, blog)</td>\n",
       "      <td>Dessert: home bounty. Eating that is very tasty!</td>\n",
       "      <td>\\n\\nFor cooking we need\\nChocolate 200 gr\\nBut...</td>\n",
       "      <td>4</td>\n",
       "      <td>592</td>\n",
       "    </tr>\n",
       "    <tr>\n",
       "      <th>1</th>\n",
       "      <td>#### Details\\nPadlock is an open source androi...</td>\n",
       "      <td>2018-01-15 21:03:30</td>\n",
       "      <td>(mutluhan, padlock-mobile-app-new-logo-design)</td>\n",
       "      <td>24.291</td>\n",
       "      <td>(utopian-io, utopian-io, graphics, design, log...</td>\n",
       "      <td>Padlock, Mobile App New Logo Design</td>\n",
       "      <td>Details\\nPadlock is an open source androidios...</td>\n",
       "      <td>22</td>\n",
       "      <td>858</td>\n",
       "    </tr>\n",
       "    <tr>\n",
       "      <th>2</th>\n",
       "      <td>![31050144-interior-of-busy-architect-s-office...</td>\n",
       "      <td>2018-01-15 21:17:42</td>\n",
       "      <td>(ankunda, get-a-skill-not-qualifications)</td>\n",
       "      <td>0.000</td>\n",
       "      <td>(get, get, a, skill, not, qualifications)</td>\n",
       "      <td>\"Get a Skill not Qualifications \"</td>\n",
       "      <td>\\nLast month I was part of the interview panel...</td>\n",
       "      <td>13</td>\n",
       "      <td>6452</td>\n",
       "    </tr>\n",
       "    <tr>\n",
       "      <th>3</th>\n",
       "      <td>![images (17).jpg](https://steemitimages.com/D...</td>\n",
       "      <td>2018-01-15 21:17:51</td>\n",
       "      <td>(belemo, getting-over-story-part-4-blind-and-d...</td>\n",
       "      <td>0.000</td>\n",
       "      <td>(stach, stach, story, love, writing, blog)</td>\n",
       "      <td>Getting Over(Story) Part 4: Blind and Disillus...</td>\n",
       "      <td>\\nLove oh love, sweet like wine made from fres...</td>\n",
       "      <td>5</td>\n",
       "      <td>2488</td>\n",
       "    </tr>\n",
       "    <tr>\n",
       "      <th>4</th>\n",
       "      <td>&lt;center&gt;&lt;a href='https://d.tube/#!/v/greyjay26...</td>\n",
       "      <td>2018-01-15 21:17:51</td>\n",
       "      <td>(greyjay265, vq01dxzf)</td>\n",
       "      <td>0.028</td>\n",
       "      <td>(dtube, dtube, bitcoin, cryptocurrency, altcoi...</td>\n",
       "      <td>LETS GET RICH. TOP 5 ALTCOINS MAY CHANGE YOUR ...</td>\n",
       "      <td>a href src\\n\\nJoin our Discord \\n\\nInstagram \\...</td>\n",
       "      <td>10</td>\n",
       "      <td>292</td>\n",
       "    </tr>\n",
       "  </tbody>\n",
       "</table>\n",
       "</div>"
      ],
      "text/plain": [
       "                                                body          created_at  \\\n",
       "0  ![image](https://img.esteem.ws/wsuuxa7xk4.jpg)... 2018-01-15 21:17:42   \n",
       "1  #### Details\\nPadlock is an open source androi... 2018-01-15 21:03:30   \n",
       "2  ![31050144-interior-of-busy-architect-s-office... 2018-01-15 21:17:42   \n",
       "3  ![images (17).jpg](https://steemitimages.com/D... 2018-01-15 21:17:51   \n",
       "4  <center><a href='https://d.tube/#!/v/greyjay26... 2018-01-15 21:17:51   \n",
       "\n",
       "                                                post  reward  \\\n",
       "0  (yatsuk.kostia, dessert-home-bounty-eating-tha...   2.684   \n",
       "1     (mutluhan, padlock-mobile-app-new-logo-design)  24.291   \n",
       "2          (ankunda, get-a-skill-not-qualifications)   0.000   \n",
       "3  (belemo, getting-over-story-part-4-blind-and-d...   0.000   \n",
       "4                             (greyjay265, vq01dxzf)   0.028   \n",
       "\n",
       "                                                tags  \\\n",
       "0             (food, food, recipe, photo, art, blog)   \n",
       "1  (utopian-io, utopian-io, graphics, design, log...   \n",
       "2          (get, get, a, skill, not, qualifications)   \n",
       "3         (stach, stach, story, love, writing, blog)   \n",
       "4  (dtube, dtube, bitcoin, cryptocurrency, altcoi...   \n",
       "\n",
       "                                               title  \\\n",
       "0   Dessert: home bounty. Eating that is very tasty!   \n",
       "1                Padlock, Mobile App New Logo Design   \n",
       "2                  \"Get a Skill not Qualifications \"   \n",
       "3  Getting Over(Story) Part 4: Blind and Disillus...   \n",
       "4  LETS GET RICH. TOP 5 ALTCOINS MAY CHANGE YOUR ...   \n",
       "\n",
       "                                       filtered_body  paragraphs  length  \n",
       "0  \\n\\nFor cooking we need\\nChocolate 200 gr\\nBut...           4     592  \n",
       "1   Details\\nPadlock is an open source androidios...          22     858  \n",
       "2  \\nLast month I was part of the interview panel...          13    6452  \n",
       "3  \\nLove oh love, sweet like wine made from fres...           5    2488  \n",
       "4  a href src\\n\\nJoin our Discord \\n\\nInstagram \\...          10     292  "
      ]
     },
     "execution_count": 11,
     "metadata": {},
     "output_type": "execute_result"
    }
   ],
   "source": [
    "print('Filtering images')\n",
    "post_df['filtered_body'] = post_df.body.apply(lambda x: filter_images_and_links(x))\n",
    "print('Filtering html')\n",
    "post_df['filtered_body'] = post_df.filtered_body.apply(lambda x: filter_html_tags(x))\n",
    "print('Filtering urls')\n",
    "post_df['filtered_body'] = post_df.filtered_body.apply(lambda x: filter_urls(x))\n",
    "print('Filtering formatting')\n",
    "post_df['filtered_body'] = post_df.filtered_body.apply(lambda x: filter_formatting(x))\n",
    "print('Filtering special characters')\n",
    "post_df['filtered_body'] = post_df.filtered_body.apply(lambda x: filter_special_characters(x))\n",
    "print('Counting paragraphs')\n",
    "post_df['paragraphs'] = post_df.filtered_body.apply(lambda x: count_paragraphs(x))\n",
    "print('Calculating length')\n",
    "post_df['length'] = post_df.filtered_body.apply(lambda x: len(x))\n",
    "\n",
    "post_df.head()"
   ]
  },
  {
   "cell_type": "code",
   "execution_count": 12,
   "metadata": {},
   "outputs": [
    {
     "name": "stdout",
     "output_type": "stream",
     "text": [
      "Keeping 19518 large enough posts out of 38103\n"
     ]
    }
   ],
   "source": [
    "large_post_df = post_df.loc[post_df.length >= 1000, :]\n",
    "print('Keeping {} large enough posts out of {}'.format(len(large_post_df), len(post_df)))"
   ]
  },
  {
   "cell_type": "code",
   "execution_count": 13,
   "metadata": {},
   "outputs": [
    {
     "data": {
      "text/plain": [
       "'de'"
      ]
     },
     "execution_count": 13,
     "metadata": {},
     "output_type": "execute_result"
    }
   ],
   "source": [
    "def detect_language(text, max_length=5000):\n",
    "    try:\n",
    "        return langdetect.detect(text[:max_length])\n",
    "    except Exception:\n",
    "        return None\n",
    "    \n",
    "detect_language('die katze ist klein der hund auch')"
   ]
  },
  {
   "cell_type": "code",
   "execution_count": 14,
   "metadata": {},
   "outputs": [
    {
     "name": "stdout",
     "output_type": "stream",
     "text": [
      "Detecting language\n"
     ]
    },
    {
     "name": "stderr",
     "output_type": "stream",
     "text": [
      "/home/robert/anaconda3/envs/steemit/lib/python3.6/site-packages/pandas/core/indexing.py:357: SettingWithCopyWarning: \n",
      "A value is trying to be set on a copy of a slice from a DataFrame.\n",
      "Try using .loc[row_indexer,col_indexer] = value instead\n",
      "\n",
      "See the caveats in the documentation: http://pandas.pydata.org/pandas-docs/stable/indexing.html#indexing-view-versus-copy\n",
      "  self.obj[key] = _infer_fill_value(value)\n",
      "/home/robert/anaconda3/envs/steemit/lib/python3.6/site-packages/pandas/core/indexing.py:537: SettingWithCopyWarning: \n",
      "A value is trying to be set on a copy of a slice from a DataFrame.\n",
      "Try using .loc[row_indexer,col_indexer] = value instead\n",
      "\n",
      "See the caveats in the documentation: http://pandas.pydata.org/pandas-docs/stable/indexing.html#indexing-view-versus-copy\n",
      "  self.obj[item] = s\n"
     ]
    }
   ],
   "source": [
    "print('Detecting language')\n",
    "large_post_df.loc[:, 'language'] = large_post_df.filtered_body.apply(lambda x: detect_language(x))"
   ]
  },
  {
   "cell_type": "code",
   "execution_count": 15,
   "metadata": {},
   "outputs": [
    {
     "name": "stdout",
     "output_type": "stream",
     "text": [
      "Found 15540 English posts\n"
     ]
    }
   ],
   "source": [
    "en_df = large_post_df.loc[large_post_df.language == 'en', :]\n",
    "print('Found {} English posts'.format(len(en_df)))"
   ]
  },
  {
   "cell_type": "code",
   "execution_count": 16,
   "metadata": {},
   "outputs": [
    {
     "data": {
      "text/plain": [
       "['Hi my name is!', 'Slim Shady!', 'Really?', 'Yeah.']"
      ]
     },
     "execution_count": 16,
     "metadata": {},
     "output_type": "execute_result"
    }
   ],
   "source": [
    "caps = \"([A-Z])\"\n",
    "prefixes = \"(Mr|St|Mrs|Ms|Dr)[.]\"\n",
    "suffixes = \"(Inc|Ltd|Jr|Sr|Co)\"\n",
    "starters = \"(Mr|Mrs|Ms|Dr|He\\s|She\\s|It\\s|They\\s|Their\\s|Our\\s|We\\s|But\\s|However\\s|That\\s|This\\s|Wherever)\"\n",
    "acronyms = \"([A-Z][.][A-Z][.](?:[A-Z][.])?)\"\n",
    "websites = \"[.](com|net|org|io|gov)\"\n",
    "\n",
    "def split_into_sentences(text):\n",
    "    \"Taken from https://stackoverflow.com/questions/4576077/python-split-text-on-sentences\"\n",
    "    text = \" \" + text + \"  \"\n",
    "    text = text.replace(\"\\n\",\" \")\n",
    "    text = re.sub(prefixes,\"\\\\1<prd>\",text)\n",
    "    text = re.sub(websites,\"<prd>\\\\1\",text)\n",
    "    if \"Ph.D\" in text: text = text.replace(\"Ph.D.\",\"Ph<prd>D<prd>\")\n",
    "    text = re.sub(\"\\s\" + caps + \"[.] \",\" \\\\1<prd> \",text)\n",
    "    text = re.sub(acronyms+\" \"+starters,\"\\\\1<stop> \\\\2\",text)\n",
    "    text = re.sub(caps + \"[.]\" + caps + \"[.]\" + caps + \"[.]\",\"\\\\1<prd>\\\\2<prd>\\\\3<prd>\",text)\n",
    "    text = re.sub(caps + \"[.]\" + caps + \"[.]\",\"\\\\1<prd>\\\\2<prd>\",text)\n",
    "    text = re.sub(\" \"+suffixes+\"[.] \"+starters,\" \\\\1<stop> \\\\2\",text)\n",
    "    text = re.sub(\" \"+suffixes+\"[.]\",\" \\\\1<prd>\",text)\n",
    "    text = re.sub(\" \" + caps + \"[.]\",\" \\\\1<prd>\",text)\n",
    "    if \"”\" in text: text = text.replace(\".”\",\"”.\")\n",
    "    if \"\\\"\" in text: text = text.replace(\".\\\"\",\"\\\".\")\n",
    "    if \"!\" in text: text = text.replace(\"!\\\"\",\"\\\"!\")\n",
    "    if \"?\" in text: text = text.replace(\"?\\\"\",\"\\\"?\")\n",
    "    text = text.replace(\".\",\".<stop>\")\n",
    "    text = text.replace(\"?\",\"?<stop>\")\n",
    "    text = text.replace(\"!\",\"!<stop>\")\n",
    "    text = text.replace(\"<prd>\",\".\")\n",
    "    sentences = text.split(\"<stop>\")\n",
    "    sentences = sentences[:-1]\n",
    "    sentences = [s.strip() for s in sentences]\n",
    "    return sentences\n",
    "    \n",
    "split_into_sentences('Hi my name is! Slim Shady! Really? Yeah.')"
   ]
  },
  {
   "cell_type": "code",
   "execution_count": 17,
   "metadata": {},
   "outputs": [
    {
     "data": {
      "text/plain": [
       "8.5"
      ]
     },
     "execution_count": 17,
     "metadata": {},
     "output_type": "execute_result"
    }
   ],
   "source": [
    "def compute_average_sentence_length(text_list):\n",
    "    return np.mean([len(x) for x in text_list])\n",
    "\n",
    "compute_average_sentence_length(['huhuh.', 'sbbbasdsads'])"
   ]
  },
  {
   "cell_type": "code",
   "execution_count": 19,
   "metadata": {},
   "outputs": [
    {
     "data": {
      "text/plain": [
       "13.25"
      ]
     },
     "execution_count": 19,
     "metadata": {},
     "output_type": "execute_result"
    }
   ],
   "source": [
    "def compute_sentence_length_variance(text_list):\n",
    "    return np.var([len(x) for x in text_list])\n",
    "\n",
    "compute_sentence_length_variance(['huhuh.', 'sbbbasdsads', 'jj djdjd', '1'])"
   ]
  },
  {
   "cell_type": "code",
   "execution_count": 20,
   "metadata": {},
   "outputs": [
    {
     "name": "stdout",
     "output_type": "stream",
     "text": [
      "Splitting into sentences\n"
     ]
    },
    {
     "name": "stderr",
     "output_type": "stream",
     "text": [
      "/home/robert/anaconda3/envs/steemit/lib/python3.6/site-packages/ipykernel_launcher.py:2: SettingWithCopyWarning: \n",
      "A value is trying to be set on a copy of a slice from a DataFrame.\n",
      "Try using .loc[row_indexer,col_indexer] = value instead\n",
      "\n",
      "See the caveats in the documentation: http://pandas.pydata.org/pandas-docs/stable/indexing.html#indexing-view-versus-copy\n",
      "  \n",
      "/home/robert/anaconda3/envs/steemit/lib/python3.6/site-packages/numpy/core/fromnumeric.py:2957: RuntimeWarning: Mean of empty slice.\n",
      "  out=out, **kwargs)\n"
     ]
    },
    {
     "name": "stdout",
     "output_type": "stream",
     "text": [
      "Computing average sentence length\n"
     ]
    },
    {
     "name": "stderr",
     "output_type": "stream",
     "text": [
      "/home/robert/anaconda3/envs/steemit/lib/python3.6/site-packages/ipykernel_launcher.py:4: SettingWithCopyWarning: \n",
      "A value is trying to be set on a copy of a slice from a DataFrame.\n",
      "Try using .loc[row_indexer,col_indexer] = value instead\n",
      "\n",
      "See the caveats in the documentation: http://pandas.pydata.org/pandas-docs/stable/indexing.html#indexing-view-versus-copy\n",
      "  after removing the cwd from sys.path.\n",
      "/home/robert/anaconda3/envs/steemit/lib/python3.6/site-packages/numpy/core/fromnumeric.py:3194: RuntimeWarning: Degrees of freedom <= 0 for slice\n",
      "  **kwargs)\n"
     ]
    },
    {
     "name": "stdout",
     "output_type": "stream",
     "text": [
      "Computing sentence length variance\n"
     ]
    },
    {
     "name": "stderr",
     "output_type": "stream",
     "text": [
      "/home/robert/anaconda3/envs/steemit/lib/python3.6/site-packages/ipykernel_launcher.py:6: SettingWithCopyWarning: \n",
      "A value is trying to be set on a copy of a slice from a DataFrame.\n",
      "Try using .loc[row_indexer,col_indexer] = value instead\n",
      "\n",
      "See the caveats in the documentation: http://pandas.pydata.org/pandas-docs/stable/indexing.html#indexing-view-versus-copy\n",
      "  \n"
     ]
    },
    {
     "data": {
      "text/html": [
       "<div>\n",
       "<style scoped>\n",
       "    .dataframe tbody tr th:only-of-type {\n",
       "        vertical-align: middle;\n",
       "    }\n",
       "\n",
       "    .dataframe tbody tr th {\n",
       "        vertical-align: top;\n",
       "    }\n",
       "\n",
       "    .dataframe thead th {\n",
       "        text-align: right;\n",
       "    }\n",
       "</style>\n",
       "<table border=\"1\" class=\"dataframe\">\n",
       "  <thead>\n",
       "    <tr style=\"text-align: right;\">\n",
       "      <th></th>\n",
       "      <th>body</th>\n",
       "      <th>created_at</th>\n",
       "      <th>post</th>\n",
       "      <th>reward</th>\n",
       "      <th>tags</th>\n",
       "      <th>title</th>\n",
       "      <th>filtered_body</th>\n",
       "      <th>paragraphs</th>\n",
       "      <th>length</th>\n",
       "      <th>language</th>\n",
       "      <th>filtered_sentences</th>\n",
       "      <th>average_sentence_length</th>\n",
       "      <th>sentence_length_variance</th>\n",
       "    </tr>\n",
       "  </thead>\n",
       "  <tbody>\n",
       "    <tr>\n",
       "      <th>2</th>\n",
       "      <td>![31050144-interior-of-busy-architect-s-office...</td>\n",
       "      <td>2018-01-15 21:17:42</td>\n",
       "      <td>(ankunda, get-a-skill-not-qualifications)</td>\n",
       "      <td>0.000</td>\n",
       "      <td>(get, get, a, skill, not, qualifications)</td>\n",
       "      <td>\"Get a Skill not Qualifications \"</td>\n",
       "      <td>\\nLast month I was part of the interview panel...</td>\n",
       "      <td>13</td>\n",
       "      <td>6452</td>\n",
       "      <td>en</td>\n",
       "      <td>[Last month I was part of the interview panel ...</td>\n",
       "      <td>47.522388</td>\n",
       "      <td>5803.995767</td>\n",
       "    </tr>\n",
       "    <tr>\n",
       "      <th>3</th>\n",
       "      <td>![images (17).jpg](https://steemitimages.com/D...</td>\n",
       "      <td>2018-01-15 21:17:51</td>\n",
       "      <td>(belemo, getting-over-story-part-4-blind-and-d...</td>\n",
       "      <td>0.000</td>\n",
       "      <td>(stach, stach, story, love, writing, blog)</td>\n",
       "      <td>Getting Over(Story) Part 4: Blind and Disillus...</td>\n",
       "      <td>\\nLove oh love, sweet like wine made from fres...</td>\n",
       "      <td>5</td>\n",
       "      <td>2488</td>\n",
       "      <td>en</td>\n",
       "      <td>[Love oh love, sweet like wine made from fresh...</td>\n",
       "      <td>129.736842</td>\n",
       "      <td>5953.141274</td>\n",
       "    </tr>\n",
       "    <tr>\n",
       "      <th>5</th>\n",
       "      <td>When everyone was sealing Neo after the ICO  b...</td>\n",
       "      <td>2018-01-15 21:15:09</td>\n",
       "      <td>(modemser, neo-is-like-the-neo-in-matrix-man)</td>\n",
       "      <td>33.189</td>\n",
       "      <td>(kr, kr, steemit, cryptocurrency, money, crypto)</td>\n",
       "      <td>Neo is like  Neo in Matrix</td>\n",
       "      <td>When everyone was sealing Neo after the ICO  b...</td>\n",
       "      <td>5</td>\n",
       "      <td>1408</td>\n",
       "      <td>en</td>\n",
       "      <td>[When everyone was sealing Neo after the ICO  ...</td>\n",
       "      <td>80.176471</td>\n",
       "      <td>5791.910035</td>\n",
       "    </tr>\n",
       "    <tr>\n",
       "      <th>7</th>\n",
       "      <td>![](https://steemitimages.com/DQmZL4fFGuEnrT2v...</td>\n",
       "      <td>2018-01-15 21:18:00</td>\n",
       "      <td>(mbadayee, does-buddhism-hold-a-pessimistic-view)</td>\n",
       "      <td>0.000</td>\n",
       "      <td>(art, art, photo, beauty, stach, busy)</td>\n",
       "      <td>Does Buddhism Hold A Pessimistic View?</td>\n",
       "      <td>\\nAdditionally, note that using allcolumn or d...</td>\n",
       "      <td>5</td>\n",
       "      <td>5003</td>\n",
       "      <td>en</td>\n",
       "      <td>[Additionally, note that using allcolumn or di...</td>\n",
       "      <td>95.153846</td>\n",
       "      <td>3541.899408</td>\n",
       "    </tr>\n",
       "    <tr>\n",
       "      <th>10</th>\n",
       "      <td>mermaid: - The evidence of the mermaid is foun...</td>\n",
       "      <td>2018-01-11 17:45:51</td>\n",
       "      <td>(nitinaryan, the-real-mermaid-feabaa3eae2d)</td>\n",
       "      <td>0.552</td>\n",
       "      <td>(mermaid, mermaid, tech, fish)</td>\n",
       "      <td>the real mermaid</td>\n",
       "      <td>mermaid  The evidence of the mermaid is found ...</td>\n",
       "      <td>3</td>\n",
       "      <td>1569</td>\n",
       "      <td>en</td>\n",
       "      <td>[mermaid  The evidence of the mermaid is found...</td>\n",
       "      <td>64.000000</td>\n",
       "      <td>939.043478</td>\n",
       "    </tr>\n",
       "  </tbody>\n",
       "</table>\n",
       "</div>"
      ],
      "text/plain": [
       "                                                 body          created_at  \\\n",
       "2   ![31050144-interior-of-busy-architect-s-office... 2018-01-15 21:17:42   \n",
       "3   ![images (17).jpg](https://steemitimages.com/D... 2018-01-15 21:17:51   \n",
       "5   When everyone was sealing Neo after the ICO  b... 2018-01-15 21:15:09   \n",
       "7   ![](https://steemitimages.com/DQmZL4fFGuEnrT2v... 2018-01-15 21:18:00   \n",
       "10  mermaid: - The evidence of the mermaid is foun... 2018-01-11 17:45:51   \n",
       "\n",
       "                                                 post  reward  \\\n",
       "2           (ankunda, get-a-skill-not-qualifications)   0.000   \n",
       "3   (belemo, getting-over-story-part-4-blind-and-d...   0.000   \n",
       "5       (modemser, neo-is-like-the-neo-in-matrix-man)  33.189   \n",
       "7   (mbadayee, does-buddhism-hold-a-pessimistic-view)   0.000   \n",
       "10        (nitinaryan, the-real-mermaid-feabaa3eae2d)   0.552   \n",
       "\n",
       "                                                tags  \\\n",
       "2          (get, get, a, skill, not, qualifications)   \n",
       "3         (stach, stach, story, love, writing, blog)   \n",
       "5   (kr, kr, steemit, cryptocurrency, money, crypto)   \n",
       "7             (art, art, photo, beauty, stach, busy)   \n",
       "10                    (mermaid, mermaid, tech, fish)   \n",
       "\n",
       "                                                title  \\\n",
       "2                   \"Get a Skill not Qualifications \"   \n",
       "3   Getting Over(Story) Part 4: Blind and Disillus...   \n",
       "5                          Neo is like  Neo in Matrix   \n",
       "7              Does Buddhism Hold A Pessimistic View?   \n",
       "10                                   the real mermaid   \n",
       "\n",
       "                                        filtered_body  paragraphs  length  \\\n",
       "2   \\nLast month I was part of the interview panel...          13    6452   \n",
       "3   \\nLove oh love, sweet like wine made from fres...           5    2488   \n",
       "5   When everyone was sealing Neo after the ICO  b...           5    1408   \n",
       "7   \\nAdditionally, note that using allcolumn or d...           5    5003   \n",
       "10  mermaid  The evidence of the mermaid is found ...           3    1569   \n",
       "\n",
       "   language                                 filtered_sentences  \\\n",
       "2        en  [Last month I was part of the interview panel ...   \n",
       "3        en  [Love oh love, sweet like wine made from fresh...   \n",
       "5        en  [When everyone was sealing Neo after the ICO  ...   \n",
       "7        en  [Additionally, note that using allcolumn or di...   \n",
       "10       en  [mermaid  The evidence of the mermaid is found...   \n",
       "\n",
       "    average_sentence_length  sentence_length_variance  \n",
       "2                 47.522388               5803.995767  \n",
       "3                129.736842               5953.141274  \n",
       "5                 80.176471               5791.910035  \n",
       "7                 95.153846               3541.899408  \n",
       "10                64.000000                939.043478  "
      ]
     },
     "execution_count": 20,
     "metadata": {},
     "output_type": "execute_result"
    }
   ],
   "source": [
    "print('Splitting into sentences')\n",
    "en_df['filtered_sentences'] = en_df.filtered_body.apply(lambda x: split_into_sentences(x))\n",
    "print('Computing average sentence length')\n",
    "en_df['average_sentence_length'] =  \\\n",
    "    en_df.filtered_sentences.apply(lambda x: compute_average_sentence_length(x))\n",
    "print('Computing sentence length variance')\n",
    "en_df['sentence_length_variance'] =  \\\n",
    "    en_df.filtered_sentences.apply(lambda x: compute_sentence_length_variance(x))\n",
    "\n",
    "en_df.head()"
   ]
  },
  {
   "cell_type": "code",
   "execution_count": 21,
   "metadata": {},
   "outputs": [],
   "source": [
    "def combine_body_and_title(df):\n",
    "    return df.title.apply(lambda x: x.lower()) +' ' + df.filtered_body.apply(lambda x: x.lower())"
   ]
  },
  {
   "cell_type": "code",
   "execution_count": 22,
   "metadata": {},
   "outputs": [
    {
     "data": {
      "text/plain": [
       "'hi my name is yolok'"
      ]
     },
     "execution_count": 22,
     "metadata": {},
     "output_type": "execute_result"
    }
   ],
   "source": [
    "def filter_punctuation(text):\n",
    "    return re.sub('[;,.?!]+', '', text)\n",
    "\n",
    "filter_punctuation('hi. my. name. is yolo!;;k;')"
   ]
  },
  {
   "cell_type": "code",
   "execution_count": 23,
   "metadata": {},
   "outputs": [
    {
     "name": "stdout",
     "output_type": "stream",
     "text": [
      "Combining Body and Title\n",
      "Filtering special characters again\n"
     ]
    },
    {
     "name": "stderr",
     "output_type": "stream",
     "text": [
      "/home/robert/anaconda3/envs/steemit/lib/python3.6/site-packages/ipykernel_launcher.py:2: SettingWithCopyWarning: \n",
      "A value is trying to be set on a copy of a slice from a DataFrame.\n",
      "Try using .loc[row_indexer,col_indexer] = value instead\n",
      "\n",
      "See the caveats in the documentation: http://pandas.pydata.org/pandas-docs/stable/indexing.html#indexing-view-versus-copy\n",
      "  \n",
      "/home/robert/anaconda3/envs/steemit/lib/python3.6/site-packages/ipykernel_launcher.py:4: SettingWithCopyWarning: \n",
      "A value is trying to be set on a copy of a slice from a DataFrame.\n",
      "Try using .loc[row_indexer,col_indexer] = value instead\n",
      "\n",
      "See the caveats in the documentation: http://pandas.pydata.org/pandas-docs/stable/indexing.html#indexing-view-versus-copy\n",
      "  after removing the cwd from sys.path.\n"
     ]
    },
    {
     "name": "stdout",
     "output_type": "stream",
     "text": [
      "Filtering punctuation\n"
     ]
    },
    {
     "name": "stderr",
     "output_type": "stream",
     "text": [
      "/home/robert/anaconda3/envs/steemit/lib/python3.6/site-packages/ipykernel_launcher.py:6: SettingWithCopyWarning: \n",
      "A value is trying to be set on a copy of a slice from a DataFrame.\n",
      "Try using .loc[row_indexer,col_indexer] = value instead\n",
      "\n",
      "See the caveats in the documentation: http://pandas.pydata.org/pandas-docs/stable/indexing.html#indexing-view-versus-copy\n",
      "  \n"
     ]
    },
    {
     "name": "stdout",
     "output_type": "stream",
     "text": [
      "Replacing new lines\n"
     ]
    },
    {
     "name": "stderr",
     "output_type": "stream",
     "text": [
      "/home/robert/anaconda3/envs/steemit/lib/python3.6/site-packages/ipykernel_launcher.py:9: SettingWithCopyWarning: \n",
      "A value is trying to be set on a copy of a slice from a DataFrame.\n",
      "Try using .loc[row_indexer,col_indexer] = value instead\n",
      "\n",
      "See the caveats in the documentation: http://pandas.pydata.org/pandas-docs/stable/indexing.html#indexing-view-versus-copy\n",
      "  if __name__ == '__main__':\n"
     ]
    },
    {
     "data": {
      "text/html": [
       "<div>\n",
       "<style scoped>\n",
       "    .dataframe tbody tr th:only-of-type {\n",
       "        vertical-align: middle;\n",
       "    }\n",
       "\n",
       "    .dataframe tbody tr th {\n",
       "        vertical-align: top;\n",
       "    }\n",
       "\n",
       "    .dataframe thead th {\n",
       "        text-align: right;\n",
       "    }\n",
       "</style>\n",
       "<table border=\"1\" class=\"dataframe\">\n",
       "  <thead>\n",
       "    <tr style=\"text-align: right;\">\n",
       "      <th></th>\n",
       "      <th>body</th>\n",
       "      <th>created_at</th>\n",
       "      <th>post</th>\n",
       "      <th>reward</th>\n",
       "      <th>tags</th>\n",
       "      <th>title</th>\n",
       "      <th>filtered_body</th>\n",
       "      <th>paragraphs</th>\n",
       "      <th>length</th>\n",
       "      <th>language</th>\n",
       "      <th>filtered_sentences</th>\n",
       "      <th>average_sentence_length</th>\n",
       "      <th>sentence_length_variance</th>\n",
       "      <th>combined</th>\n",
       "    </tr>\n",
       "  </thead>\n",
       "  <tbody>\n",
       "    <tr>\n",
       "      <th>2</th>\n",
       "      <td>![31050144-interior-of-busy-architect-s-office...</td>\n",
       "      <td>2018-01-15 21:17:42</td>\n",
       "      <td>(ankunda, get-a-skill-not-qualifications)</td>\n",
       "      <td>0.000</td>\n",
       "      <td>(get, get, a, skill, not, qualifications)</td>\n",
       "      <td>\"Get a Skill not Qualifications \"</td>\n",
       "      <td>\\nLast month I was part of the interview panel...</td>\n",
       "      <td>13</td>\n",
       "      <td>6452</td>\n",
       "      <td>en</td>\n",
       "      <td>[Last month I was part of the interview panel ...</td>\n",
       "      <td>47.522388</td>\n",
       "      <td>5803.995767</td>\n",
       "      <td>get a skill not qualifications last month i wa...</td>\n",
       "    </tr>\n",
       "    <tr>\n",
       "      <th>3</th>\n",
       "      <td>![images (17).jpg](https://steemitimages.com/D...</td>\n",
       "      <td>2018-01-15 21:17:51</td>\n",
       "      <td>(belemo, getting-over-story-part-4-blind-and-d...</td>\n",
       "      <td>0.000</td>\n",
       "      <td>(stach, stach, story, love, writing, blog)</td>\n",
       "      <td>Getting Over(Story) Part 4: Blind and Disillus...</td>\n",
       "      <td>\\nLove oh love, sweet like wine made from fres...</td>\n",
       "      <td>5</td>\n",
       "      <td>2488</td>\n",
       "      <td>en</td>\n",
       "      <td>[Love oh love, sweet like wine made from fresh...</td>\n",
       "      <td>129.736842</td>\n",
       "      <td>5953.141274</td>\n",
       "      <td>getting overstory part 4 blind and disillusion...</td>\n",
       "    </tr>\n",
       "    <tr>\n",
       "      <th>5</th>\n",
       "      <td>When everyone was sealing Neo after the ICO  b...</td>\n",
       "      <td>2018-01-15 21:15:09</td>\n",
       "      <td>(modemser, neo-is-like-the-neo-in-matrix-man)</td>\n",
       "      <td>33.189</td>\n",
       "      <td>(kr, kr, steemit, cryptocurrency, money, crypto)</td>\n",
       "      <td>Neo is like  Neo in Matrix</td>\n",
       "      <td>When everyone was sealing Neo after the ICO  b...</td>\n",
       "      <td>5</td>\n",
       "      <td>1408</td>\n",
       "      <td>en</td>\n",
       "      <td>[When everyone was sealing Neo after the ICO  ...</td>\n",
       "      <td>80.176471</td>\n",
       "      <td>5791.910035</td>\n",
       "      <td>neo is like neo in matrix when everyone was se...</td>\n",
       "    </tr>\n",
       "    <tr>\n",
       "      <th>7</th>\n",
       "      <td>![](https://steemitimages.com/DQmZL4fFGuEnrT2v...</td>\n",
       "      <td>2018-01-15 21:18:00</td>\n",
       "      <td>(mbadayee, does-buddhism-hold-a-pessimistic-view)</td>\n",
       "      <td>0.000</td>\n",
       "      <td>(art, art, photo, beauty, stach, busy)</td>\n",
       "      <td>Does Buddhism Hold A Pessimistic View?</td>\n",
       "      <td>\\nAdditionally, note that using allcolumn or d...</td>\n",
       "      <td>5</td>\n",
       "      <td>5003</td>\n",
       "      <td>en</td>\n",
       "      <td>[Additionally, note that using allcolumn or di...</td>\n",
       "      <td>95.153846</td>\n",
       "      <td>3541.899408</td>\n",
       "      <td>does buddhism hold a pessimistic view addition...</td>\n",
       "    </tr>\n",
       "    <tr>\n",
       "      <th>10</th>\n",
       "      <td>mermaid: - The evidence of the mermaid is foun...</td>\n",
       "      <td>2018-01-11 17:45:51</td>\n",
       "      <td>(nitinaryan, the-real-mermaid-feabaa3eae2d)</td>\n",
       "      <td>0.552</td>\n",
       "      <td>(mermaid, mermaid, tech, fish)</td>\n",
       "      <td>the real mermaid</td>\n",
       "      <td>mermaid  The evidence of the mermaid is found ...</td>\n",
       "      <td>3</td>\n",
       "      <td>1569</td>\n",
       "      <td>en</td>\n",
       "      <td>[mermaid  The evidence of the mermaid is found...</td>\n",
       "      <td>64.000000</td>\n",
       "      <td>939.043478</td>\n",
       "      <td>the real mermaid mermaid the evidence of the m...</td>\n",
       "    </tr>\n",
       "  </tbody>\n",
       "</table>\n",
       "</div>"
      ],
      "text/plain": [
       "                                                 body          created_at  \\\n",
       "2   ![31050144-interior-of-busy-architect-s-office... 2018-01-15 21:17:42   \n",
       "3   ![images (17).jpg](https://steemitimages.com/D... 2018-01-15 21:17:51   \n",
       "5   When everyone was sealing Neo after the ICO  b... 2018-01-15 21:15:09   \n",
       "7   ![](https://steemitimages.com/DQmZL4fFGuEnrT2v... 2018-01-15 21:18:00   \n",
       "10  mermaid: - The evidence of the mermaid is foun... 2018-01-11 17:45:51   \n",
       "\n",
       "                                                 post  reward  \\\n",
       "2           (ankunda, get-a-skill-not-qualifications)   0.000   \n",
       "3   (belemo, getting-over-story-part-4-blind-and-d...   0.000   \n",
       "5       (modemser, neo-is-like-the-neo-in-matrix-man)  33.189   \n",
       "7   (mbadayee, does-buddhism-hold-a-pessimistic-view)   0.000   \n",
       "10        (nitinaryan, the-real-mermaid-feabaa3eae2d)   0.552   \n",
       "\n",
       "                                                tags  \\\n",
       "2          (get, get, a, skill, not, qualifications)   \n",
       "3         (stach, stach, story, love, writing, blog)   \n",
       "5   (kr, kr, steemit, cryptocurrency, money, crypto)   \n",
       "7             (art, art, photo, beauty, stach, busy)   \n",
       "10                    (mermaid, mermaid, tech, fish)   \n",
       "\n",
       "                                                title  \\\n",
       "2                   \"Get a Skill not Qualifications \"   \n",
       "3   Getting Over(Story) Part 4: Blind and Disillus...   \n",
       "5                          Neo is like  Neo in Matrix   \n",
       "7              Does Buddhism Hold A Pessimistic View?   \n",
       "10                                   the real mermaid   \n",
       "\n",
       "                                        filtered_body  paragraphs  length  \\\n",
       "2   \\nLast month I was part of the interview panel...          13    6452   \n",
       "3   \\nLove oh love, sweet like wine made from fres...           5    2488   \n",
       "5   When everyone was sealing Neo after the ICO  b...           5    1408   \n",
       "7   \\nAdditionally, note that using allcolumn or d...           5    5003   \n",
       "10  mermaid  The evidence of the mermaid is found ...           3    1569   \n",
       "\n",
       "   language                                 filtered_sentences  \\\n",
       "2        en  [Last month I was part of the interview panel ...   \n",
       "3        en  [Love oh love, sweet like wine made from fresh...   \n",
       "5        en  [When everyone was sealing Neo after the ICO  ...   \n",
       "7        en  [Additionally, note that using allcolumn or di...   \n",
       "10       en  [mermaid  The evidence of the mermaid is found...   \n",
       "\n",
       "    average_sentence_length  sentence_length_variance  \\\n",
       "2                 47.522388               5803.995767   \n",
       "3                129.736842               5953.141274   \n",
       "5                 80.176471               5791.910035   \n",
       "7                 95.153846               3541.899408   \n",
       "10                64.000000                939.043478   \n",
       "\n",
       "                                             combined  \n",
       "2   get a skill not qualifications last month i wa...  \n",
       "3   getting overstory part 4 blind and disillusion...  \n",
       "5   neo is like neo in matrix when everyone was se...  \n",
       "7   does buddhism hold a pessimistic view addition...  \n",
       "10  the real mermaid mermaid the evidence of the m...  "
      ]
     },
     "execution_count": 23,
     "metadata": {},
     "output_type": "execute_result"
    }
   ],
   "source": [
    "print('Combining Body and Title')\n",
    "en_df['combined'] = combine_body_and_title(en_df)\n",
    "print('Filtering special characters again')\n",
    "en_df['combined'] = en_df.combined.apply(lambda x: filter_special_characters(x))\n",
    "print('Filtering punctuation')\n",
    "en_df['combined'] = en_df.combined.apply(lambda x: filter_punctuation(x))\n",
    "\n",
    "print('Replacing new lines')\n",
    "en_df['combined'] = en_df.combined.apply(lambda x: replace_newlines(x))\n",
    "\n",
    "en_df.head()"
   ]
  },
  {
   "cell_type": "code",
   "execution_count": 24,
   "metadata": {},
   "outputs": [
    {
     "data": {
      "text/plain": [
       "1"
      ]
     },
     "execution_count": 24,
     "metadata": {},
     "output_type": "execute_result"
    }
   ],
   "source": [
    "checker = SpellChecker('en_US')\n",
    "def count_mistakes(text):\n",
    "    checker.set_text(text)\n",
    "    nerrors = len([x for x in checker])\n",
    "    return nerrors\n",
    "\n",
    "count_mistakes('hi hiw are you')"
   ]
  },
  {
   "cell_type": "code",
   "execution_count": 25,
   "metadata": {},
   "outputs": [
    {
     "name": "stdout",
     "output_type": "stream",
     "text": [
      "Spell checking\n"
     ]
    },
    {
     "name": "stderr",
     "output_type": "stream",
     "text": [
      "/home/robert/anaconda3/envs/steemit/lib/python3.6/site-packages/ipykernel_launcher.py:2: SettingWithCopyWarning: \n",
      "A value is trying to be set on a copy of a slice from a DataFrame.\n",
      "Try using .loc[row_indexer,col_indexer] = value instead\n",
      "\n",
      "See the caveats in the documentation: http://pandas.pydata.org/pandas-docs/stable/indexing.html#indexing-view-versus-copy\n",
      "  \n"
     ]
    }
   ],
   "source": [
    "print('Spell checking')\n",
    "en_df['spelling_errors'] = en_df.combined.apply(lambda x: count_mistakes(x))"
   ]
  },
  {
   "cell_type": "code",
   "execution_count": 26,
   "metadata": {},
   "outputs": [
    {
     "name": "stdout",
     "output_type": "stream",
     "text": [
      "Tokenization\n"
     ]
    },
    {
     "name": "stderr",
     "output_type": "stream",
     "text": [
      "/home/robert/anaconda3/envs/steemit/lib/python3.6/site-packages/ipykernel_launcher.py:2: SettingWithCopyWarning: \n",
      "A value is trying to be set on a copy of a slice from a DataFrame.\n",
      "Try using .loc[row_indexer,col_indexer] = value instead\n",
      "\n",
      "See the caveats in the documentation: http://pandas.pydata.org/pandas-docs/stable/indexing.html#indexing-view-versus-copy\n",
      "  \n",
      "/home/robert/anaconda3/envs/steemit/lib/python3.6/site-packages/ipykernel_launcher.py:3: SettingWithCopyWarning: \n",
      "A value is trying to be set on a copy of a slice from a DataFrame.\n",
      "Try using .loc[row_indexer,col_indexer] = value instead\n",
      "\n",
      "See the caveats in the documentation: http://pandas.pydata.org/pandas-docs/stable/indexing.html#indexing-view-versus-copy\n",
      "  This is separate from the ipykernel package so we can avoid doing imports until\n"
     ]
    },
    {
     "data": {
      "text/html": [
       "<div>\n",
       "<style scoped>\n",
       "    .dataframe tbody tr th:only-of-type {\n",
       "        vertical-align: middle;\n",
       "    }\n",
       "\n",
       "    .dataframe tbody tr th {\n",
       "        vertical-align: top;\n",
       "    }\n",
       "\n",
       "    .dataframe thead th {\n",
       "        text-align: right;\n",
       "    }\n",
       "</style>\n",
       "<table border=\"1\" class=\"dataframe\">\n",
       "  <thead>\n",
       "    <tr style=\"text-align: right;\">\n",
       "      <th></th>\n",
       "      <th>body</th>\n",
       "      <th>created_at</th>\n",
       "      <th>post</th>\n",
       "      <th>reward</th>\n",
       "      <th>tags</th>\n",
       "      <th>title</th>\n",
       "      <th>filtered_body</th>\n",
       "      <th>paragraphs</th>\n",
       "      <th>length</th>\n",
       "      <th>language</th>\n",
       "      <th>filtered_sentences</th>\n",
       "      <th>average_sentence_length</th>\n",
       "      <th>sentence_length_variance</th>\n",
       "      <th>combined</th>\n",
       "      <th>spelling_errors</th>\n",
       "      <th>tokens</th>\n",
       "      <th>num_words</th>\n",
       "    </tr>\n",
       "  </thead>\n",
       "  <tbody>\n",
       "    <tr>\n",
       "      <th>2</th>\n",
       "      <td>![31050144-interior-of-busy-architect-s-office...</td>\n",
       "      <td>2018-01-15 21:17:42</td>\n",
       "      <td>(ankunda, get-a-skill-not-qualifications)</td>\n",
       "      <td>0.000</td>\n",
       "      <td>(get, get, a, skill, not, qualifications)</td>\n",
       "      <td>\"Get a Skill not Qualifications \"</td>\n",
       "      <td>\\nLast month I was part of the interview panel...</td>\n",
       "      <td>13</td>\n",
       "      <td>6452</td>\n",
       "      <td>en</td>\n",
       "      <td>[Last month I was part of the interview panel ...</td>\n",
       "      <td>47.522388</td>\n",
       "      <td>5803.995767</td>\n",
       "      <td>get a skill not qualifications last month i wa...</td>\n",
       "      <td>60</td>\n",
       "      <td>[get, a, skill, not, qualifications, last, mon...</td>\n",
       "      <td>1154</td>\n",
       "    </tr>\n",
       "    <tr>\n",
       "      <th>3</th>\n",
       "      <td>![images (17).jpg](https://steemitimages.com/D...</td>\n",
       "      <td>2018-01-15 21:17:51</td>\n",
       "      <td>(belemo, getting-over-story-part-4-blind-and-d...</td>\n",
       "      <td>0.000</td>\n",
       "      <td>(stach, stach, story, love, writing, blog)</td>\n",
       "      <td>Getting Over(Story) Part 4: Blind and Disillus...</td>\n",
       "      <td>\\nLove oh love, sweet like wine made from fres...</td>\n",
       "      <td>5</td>\n",
       "      <td>2488</td>\n",
       "      <td>en</td>\n",
       "      <td>[Love oh love, sweet like wine made from fresh...</td>\n",
       "      <td>129.736842</td>\n",
       "      <td>5953.141274</td>\n",
       "      <td>getting overstory part 4 blind and disillusion...</td>\n",
       "      <td>13</td>\n",
       "      <td>[getting, overstory, part, 4, blind, and, disi...</td>\n",
       "      <td>488</td>\n",
       "    </tr>\n",
       "    <tr>\n",
       "      <th>5</th>\n",
       "      <td>When everyone was sealing Neo after the ICO  b...</td>\n",
       "      <td>2018-01-15 21:15:09</td>\n",
       "      <td>(modemser, neo-is-like-the-neo-in-matrix-man)</td>\n",
       "      <td>33.189</td>\n",
       "      <td>(kr, kr, steemit, cryptocurrency, money, crypto)</td>\n",
       "      <td>Neo is like  Neo in Matrix</td>\n",
       "      <td>When everyone was sealing Neo after the ICO  b...</td>\n",
       "      <td>5</td>\n",
       "      <td>1408</td>\n",
       "      <td>en</td>\n",
       "      <td>[When everyone was sealing Neo after the ICO  ...</td>\n",
       "      <td>80.176471</td>\n",
       "      <td>5791.910035</td>\n",
       "      <td>neo is like neo in matrix when everyone was se...</td>\n",
       "      <td>83</td>\n",
       "      <td>[neo, is, like, neo, in, matrix, when, everyon...</td>\n",
       "      <td>219</td>\n",
       "    </tr>\n",
       "    <tr>\n",
       "      <th>7</th>\n",
       "      <td>![](https://steemitimages.com/DQmZL4fFGuEnrT2v...</td>\n",
       "      <td>2018-01-15 21:18:00</td>\n",
       "      <td>(mbadayee, does-buddhism-hold-a-pessimistic-view)</td>\n",
       "      <td>0.000</td>\n",
       "      <td>(art, art, photo, beauty, stach, busy)</td>\n",
       "      <td>Does Buddhism Hold A Pessimistic View?</td>\n",
       "      <td>\\nAdditionally, note that using allcolumn or d...</td>\n",
       "      <td>5</td>\n",
       "      <td>5003</td>\n",
       "      <td>en</td>\n",
       "      <td>[Additionally, note that using allcolumn or di...</td>\n",
       "      <td>95.153846</td>\n",
       "      <td>3541.899408</td>\n",
       "      <td>does buddhism hold a pessimistic view addition...</td>\n",
       "      <td>19</td>\n",
       "      <td>[does, buddhism, hold, a, pessimistic, view, a...</td>\n",
       "      <td>857</td>\n",
       "    </tr>\n",
       "    <tr>\n",
       "      <th>10</th>\n",
       "      <td>mermaid: - The evidence of the mermaid is foun...</td>\n",
       "      <td>2018-01-11 17:45:51</td>\n",
       "      <td>(nitinaryan, the-real-mermaid-feabaa3eae2d)</td>\n",
       "      <td>0.552</td>\n",
       "      <td>(mermaid, mermaid, tech, fish)</td>\n",
       "      <td>the real mermaid</td>\n",
       "      <td>mermaid  The evidence of the mermaid is found ...</td>\n",
       "      <td>3</td>\n",
       "      <td>1569</td>\n",
       "      <td>en</td>\n",
       "      <td>[mermaid  The evidence of the mermaid is found...</td>\n",
       "      <td>64.000000</td>\n",
       "      <td>939.043478</td>\n",
       "      <td>the real mermaid mermaid the evidence of the m...</td>\n",
       "      <td>7</td>\n",
       "      <td>[the, real, mermaid, mermaid, the, evidence, o...</td>\n",
       "      <td>295</td>\n",
       "    </tr>\n",
       "  </tbody>\n",
       "</table>\n",
       "</div>"
      ],
      "text/plain": [
       "                                                 body          created_at  \\\n",
       "2   ![31050144-interior-of-busy-architect-s-office... 2018-01-15 21:17:42   \n",
       "3   ![images (17).jpg](https://steemitimages.com/D... 2018-01-15 21:17:51   \n",
       "5   When everyone was sealing Neo after the ICO  b... 2018-01-15 21:15:09   \n",
       "7   ![](https://steemitimages.com/DQmZL4fFGuEnrT2v... 2018-01-15 21:18:00   \n",
       "10  mermaid: - The evidence of the mermaid is foun... 2018-01-11 17:45:51   \n",
       "\n",
       "                                                 post  reward  \\\n",
       "2           (ankunda, get-a-skill-not-qualifications)   0.000   \n",
       "3   (belemo, getting-over-story-part-4-blind-and-d...   0.000   \n",
       "5       (modemser, neo-is-like-the-neo-in-matrix-man)  33.189   \n",
       "7   (mbadayee, does-buddhism-hold-a-pessimistic-view)   0.000   \n",
       "10        (nitinaryan, the-real-mermaid-feabaa3eae2d)   0.552   \n",
       "\n",
       "                                                tags  \\\n",
       "2          (get, get, a, skill, not, qualifications)   \n",
       "3         (stach, stach, story, love, writing, blog)   \n",
       "5   (kr, kr, steemit, cryptocurrency, money, crypto)   \n",
       "7             (art, art, photo, beauty, stach, busy)   \n",
       "10                    (mermaid, mermaid, tech, fish)   \n",
       "\n",
       "                                                title  \\\n",
       "2                   \"Get a Skill not Qualifications \"   \n",
       "3   Getting Over(Story) Part 4: Blind and Disillus...   \n",
       "5                          Neo is like  Neo in Matrix   \n",
       "7              Does Buddhism Hold A Pessimistic View?   \n",
       "10                                   the real mermaid   \n",
       "\n",
       "                                        filtered_body  paragraphs  length  \\\n",
       "2   \\nLast month I was part of the interview panel...          13    6452   \n",
       "3   \\nLove oh love, sweet like wine made from fres...           5    2488   \n",
       "5   When everyone was sealing Neo after the ICO  b...           5    1408   \n",
       "7   \\nAdditionally, note that using allcolumn or d...           5    5003   \n",
       "10  mermaid  The evidence of the mermaid is found ...           3    1569   \n",
       "\n",
       "   language                                 filtered_sentences  \\\n",
       "2        en  [Last month I was part of the interview panel ...   \n",
       "3        en  [Love oh love, sweet like wine made from fresh...   \n",
       "5        en  [When everyone was sealing Neo after the ICO  ...   \n",
       "7        en  [Additionally, note that using allcolumn or di...   \n",
       "10       en  [mermaid  The evidence of the mermaid is found...   \n",
       "\n",
       "    average_sentence_length  sentence_length_variance  \\\n",
       "2                 47.522388               5803.995767   \n",
       "3                129.736842               5953.141274   \n",
       "5                 80.176471               5791.910035   \n",
       "7                 95.153846               3541.899408   \n",
       "10                64.000000                939.043478   \n",
       "\n",
       "                                             combined  spelling_errors  \\\n",
       "2   get a skill not qualifications last month i wa...               60   \n",
       "3   getting overstory part 4 blind and disillusion...               13   \n",
       "5   neo is like neo in matrix when everyone was se...               83   \n",
       "7   does buddhism hold a pessimistic view addition...               19   \n",
       "10  the real mermaid mermaid the evidence of the m...                7   \n",
       "\n",
       "                                               tokens  num_words  \n",
       "2   [get, a, skill, not, qualifications, last, mon...       1154  \n",
       "3   [getting, overstory, part, 4, blind, and, disi...        488  \n",
       "5   [neo, is, like, neo, in, matrix, when, everyon...        219  \n",
       "7   [does, buddhism, hold, a, pessimistic, view, a...        857  \n",
       "10  [the, real, mermaid, mermaid, the, evidence, o...        295  "
      ]
     },
     "execution_count": 26,
     "metadata": {},
     "output_type": "execute_result"
    }
   ],
   "source": [
    "print('Tokenization')\n",
    "en_df['tokens'] = en_df.combined.apply(lambda x: x.split(' '))\n",
    "en_df['num_words'] = en_df.tokens.apply(lambda x: len(x))\n",
    "\n",
    "en_df.head()"
   ]
  },
  {
   "cell_type": "code",
   "execution_count": 27,
   "metadata": {},
   "outputs": [
    {
     "name": "stdout",
     "output_type": "stream",
     "text": [
      "Final data set has 15498 entries\n"
     ]
    },
    {
     "data": {
      "text/html": [
       "<div>\n",
       "<style scoped>\n",
       "    .dataframe tbody tr th:only-of-type {\n",
       "        vertical-align: middle;\n",
       "    }\n",
       "\n",
       "    .dataframe tbody tr th {\n",
       "        vertical-align: top;\n",
       "    }\n",
       "\n",
       "    .dataframe thead th {\n",
       "        text-align: right;\n",
       "    }\n",
       "</style>\n",
       "<table border=\"1\" class=\"dataframe\">\n",
       "  <thead>\n",
       "    <tr style=\"text-align: right;\">\n",
       "      <th></th>\n",
       "      <th>body</th>\n",
       "      <th>created_at</th>\n",
       "      <th>post</th>\n",
       "      <th>reward</th>\n",
       "      <th>tags</th>\n",
       "      <th>title</th>\n",
       "      <th>filtered_body</th>\n",
       "      <th>paragraphs</th>\n",
       "      <th>length</th>\n",
       "      <th>language</th>\n",
       "      <th>filtered_sentences</th>\n",
       "      <th>average_sentence_length</th>\n",
       "      <th>sentence_length_variance</th>\n",
       "      <th>combined</th>\n",
       "      <th>spelling_errors</th>\n",
       "      <th>tokens</th>\n",
       "      <th>num_words</th>\n",
       "    </tr>\n",
       "  </thead>\n",
       "  <tbody>\n",
       "    <tr>\n",
       "      <th>2</th>\n",
       "      <td>![31050144-interior-of-busy-architect-s-office...</td>\n",
       "      <td>2018-01-15 21:17:42</td>\n",
       "      <td>(ankunda, get-a-skill-not-qualifications)</td>\n",
       "      <td>0.000</td>\n",
       "      <td>(get, get, a, skill, not, qualifications)</td>\n",
       "      <td>\"Get a Skill not Qualifications \"</td>\n",
       "      <td>\\nLast month I was part of the interview panel...</td>\n",
       "      <td>13</td>\n",
       "      <td>6452</td>\n",
       "      <td>en</td>\n",
       "      <td>[Last month I was part of the interview panel ...</td>\n",
       "      <td>47.522388</td>\n",
       "      <td>5803.995767</td>\n",
       "      <td>get a skill not qualifications last month i wa...</td>\n",
       "      <td>60</td>\n",
       "      <td>[get, a, skill, not, qualifications, last, mon...</td>\n",
       "      <td>1154</td>\n",
       "    </tr>\n",
       "    <tr>\n",
       "      <th>3</th>\n",
       "      <td>![images (17).jpg](https://steemitimages.com/D...</td>\n",
       "      <td>2018-01-15 21:17:51</td>\n",
       "      <td>(belemo, getting-over-story-part-4-blind-and-d...</td>\n",
       "      <td>0.000</td>\n",
       "      <td>(stach, stach, story, love, writing, blog)</td>\n",
       "      <td>Getting Over(Story) Part 4: Blind and Disillus...</td>\n",
       "      <td>\\nLove oh love, sweet like wine made from fres...</td>\n",
       "      <td>5</td>\n",
       "      <td>2488</td>\n",
       "      <td>en</td>\n",
       "      <td>[Love oh love, sweet like wine made from fresh...</td>\n",
       "      <td>129.736842</td>\n",
       "      <td>5953.141274</td>\n",
       "      <td>getting overstory part 4 blind and disillusion...</td>\n",
       "      <td>13</td>\n",
       "      <td>[getting, overstory, part, 4, blind, and, disi...</td>\n",
       "      <td>488</td>\n",
       "    </tr>\n",
       "    <tr>\n",
       "      <th>5</th>\n",
       "      <td>When everyone was sealing Neo after the ICO  b...</td>\n",
       "      <td>2018-01-15 21:15:09</td>\n",
       "      <td>(modemser, neo-is-like-the-neo-in-matrix-man)</td>\n",
       "      <td>33.189</td>\n",
       "      <td>(kr, kr, steemit, cryptocurrency, money, crypto)</td>\n",
       "      <td>Neo is like  Neo in Matrix</td>\n",
       "      <td>When everyone was sealing Neo after the ICO  b...</td>\n",
       "      <td>5</td>\n",
       "      <td>1408</td>\n",
       "      <td>en</td>\n",
       "      <td>[When everyone was sealing Neo after the ICO  ...</td>\n",
       "      <td>80.176471</td>\n",
       "      <td>5791.910035</td>\n",
       "      <td>neo is like neo in matrix when everyone was se...</td>\n",
       "      <td>83</td>\n",
       "      <td>[neo, is, like, neo, in, matrix, when, everyon...</td>\n",
       "      <td>219</td>\n",
       "    </tr>\n",
       "    <tr>\n",
       "      <th>7</th>\n",
       "      <td>![](https://steemitimages.com/DQmZL4fFGuEnrT2v...</td>\n",
       "      <td>2018-01-15 21:18:00</td>\n",
       "      <td>(mbadayee, does-buddhism-hold-a-pessimistic-view)</td>\n",
       "      <td>0.000</td>\n",
       "      <td>(art, art, photo, beauty, stach, busy)</td>\n",
       "      <td>Does Buddhism Hold A Pessimistic View?</td>\n",
       "      <td>\\nAdditionally, note that using allcolumn or d...</td>\n",
       "      <td>5</td>\n",
       "      <td>5003</td>\n",
       "      <td>en</td>\n",
       "      <td>[Additionally, note that using allcolumn or di...</td>\n",
       "      <td>95.153846</td>\n",
       "      <td>3541.899408</td>\n",
       "      <td>does buddhism hold a pessimistic view addition...</td>\n",
       "      <td>19</td>\n",
       "      <td>[does, buddhism, hold, a, pessimistic, view, a...</td>\n",
       "      <td>857</td>\n",
       "    </tr>\n",
       "    <tr>\n",
       "      <th>10</th>\n",
       "      <td>mermaid: - The evidence of the mermaid is foun...</td>\n",
       "      <td>2018-01-11 17:45:51</td>\n",
       "      <td>(nitinaryan, the-real-mermaid-feabaa3eae2d)</td>\n",
       "      <td>0.552</td>\n",
       "      <td>(mermaid, mermaid, tech, fish)</td>\n",
       "      <td>the real mermaid</td>\n",
       "      <td>mermaid  The evidence of the mermaid is found ...</td>\n",
       "      <td>3</td>\n",
       "      <td>1569</td>\n",
       "      <td>en</td>\n",
       "      <td>[mermaid  The evidence of the mermaid is found...</td>\n",
       "      <td>64.000000</td>\n",
       "      <td>939.043478</td>\n",
       "      <td>the real mermaid mermaid the evidence of the m...</td>\n",
       "      <td>7</td>\n",
       "      <td>[the, real, mermaid, mermaid, the, evidence, o...</td>\n",
       "      <td>295</td>\n",
       "    </tr>\n",
       "  </tbody>\n",
       "</table>\n",
       "</div>"
      ],
      "text/plain": [
       "                                                 body          created_at  \\\n",
       "2   ![31050144-interior-of-busy-architect-s-office... 2018-01-15 21:17:42   \n",
       "3   ![images (17).jpg](https://steemitimages.com/D... 2018-01-15 21:17:51   \n",
       "5   When everyone was sealing Neo after the ICO  b... 2018-01-15 21:15:09   \n",
       "7   ![](https://steemitimages.com/DQmZL4fFGuEnrT2v... 2018-01-15 21:18:00   \n",
       "10  mermaid: - The evidence of the mermaid is foun... 2018-01-11 17:45:51   \n",
       "\n",
       "                                                 post  reward  \\\n",
       "2           (ankunda, get-a-skill-not-qualifications)   0.000   \n",
       "3   (belemo, getting-over-story-part-4-blind-and-d...   0.000   \n",
       "5       (modemser, neo-is-like-the-neo-in-matrix-man)  33.189   \n",
       "7   (mbadayee, does-buddhism-hold-a-pessimistic-view)   0.000   \n",
       "10        (nitinaryan, the-real-mermaid-feabaa3eae2d)   0.552   \n",
       "\n",
       "                                                tags  \\\n",
       "2          (get, get, a, skill, not, qualifications)   \n",
       "3         (stach, stach, story, love, writing, blog)   \n",
       "5   (kr, kr, steemit, cryptocurrency, money, crypto)   \n",
       "7             (art, art, photo, beauty, stach, busy)   \n",
       "10                    (mermaid, mermaid, tech, fish)   \n",
       "\n",
       "                                                title  \\\n",
       "2                   \"Get a Skill not Qualifications \"   \n",
       "3   Getting Over(Story) Part 4: Blind and Disillus...   \n",
       "5                          Neo is like  Neo in Matrix   \n",
       "7              Does Buddhism Hold A Pessimistic View?   \n",
       "10                                   the real mermaid   \n",
       "\n",
       "                                        filtered_body  paragraphs  length  \\\n",
       "2   \\nLast month I was part of the interview panel...          13    6452   \n",
       "3   \\nLove oh love, sweet like wine made from fres...           5    2488   \n",
       "5   When everyone was sealing Neo after the ICO  b...           5    1408   \n",
       "7   \\nAdditionally, note that using allcolumn or d...           5    5003   \n",
       "10  mermaid  The evidence of the mermaid is found ...           3    1569   \n",
       "\n",
       "   language                                 filtered_sentences  \\\n",
       "2        en  [Last month I was part of the interview panel ...   \n",
       "3        en  [Love oh love, sweet like wine made from fresh...   \n",
       "5        en  [When everyone was sealing Neo after the ICO  ...   \n",
       "7        en  [Additionally, note that using allcolumn or di...   \n",
       "10       en  [mermaid  The evidence of the mermaid is found...   \n",
       "\n",
       "    average_sentence_length  sentence_length_variance  \\\n",
       "2                 47.522388               5803.995767   \n",
       "3                129.736842               5953.141274   \n",
       "5                 80.176471               5791.910035   \n",
       "7                 95.153846               3541.899408   \n",
       "10                64.000000                939.043478   \n",
       "\n",
       "                                             combined  spelling_errors  \\\n",
       "2   get a skill not qualifications last month i wa...               60   \n",
       "3   getting overstory part 4 blind and disillusion...               13   \n",
       "5   neo is like neo in matrix when everyone was se...               83   \n",
       "7   does buddhism hold a pessimistic view addition...               19   \n",
       "10  the real mermaid mermaid the evidence of the m...                7   \n",
       "\n",
       "                                               tokens  num_words  \n",
       "2   [get, a, skill, not, qualifications, last, mon...       1154  \n",
       "3   [getting, overstory, part, 4, blind, and, disi...        488  \n",
       "5   [neo, is, like, neo, in, matrix, when, everyon...        219  \n",
       "7   [does, buddhism, hold, a, pessimistic, view, a...        857  \n",
       "10  [the, real, mermaid, mermaid, the, evidence, o...        295  "
      ]
     },
     "execution_count": 27,
     "metadata": {},
     "output_type": "execute_result"
    }
   ],
   "source": [
    "final_df = en_df.dropna()\n",
    "\n",
    "print('Final data set has {} entries'.format(len(final_df)))\n",
    "final_df.head()"
   ]
  },
  {
   "cell_type": "markdown",
   "metadata": {},
   "source": [
    "# Machine Learning"
   ]
  },
  {
   "cell_type": "code",
   "execution_count": 28,
   "metadata": {},
   "outputs": [],
   "source": [
    "from gensim.models.lsimodel import LsiModel\n",
    "from gensim import corpora\n",
    "from gensim.matutils import corpus2dense\n",
    "from sklearn.ensemble import RandomForestRegressor\n",
    "#from sklearn.model_selection import GridSearchCV"
   ]
  },
  {
   "cell_type": "code",
   "execution_count": 29,
   "metadata": {
    "scrolled": true
   },
   "outputs": [
    {
     "data": {
      "text/html": [
       "<div>\n",
       "<style scoped>\n",
       "    .dataframe tbody tr th:only-of-type {\n",
       "        vertical-align: middle;\n",
       "    }\n",
       "\n",
       "    .dataframe tbody tr th {\n",
       "        vertical-align: top;\n",
       "    }\n",
       "\n",
       "    .dataframe thead th {\n",
       "        text-align: right;\n",
       "    }\n",
       "</style>\n",
       "<table border=\"1\" class=\"dataframe\">\n",
       "  <thead>\n",
       "    <tr style=\"text-align: right;\">\n",
       "      <th></th>\n",
       "      <th>body</th>\n",
       "      <th>created_at</th>\n",
       "      <th>post</th>\n",
       "      <th>reward</th>\n",
       "      <th>tags</th>\n",
       "      <th>title</th>\n",
       "      <th>filtered_body</th>\n",
       "      <th>paragraphs</th>\n",
       "      <th>length</th>\n",
       "      <th>language</th>\n",
       "      <th>filtered_sentences</th>\n",
       "      <th>average_sentence_length</th>\n",
       "      <th>sentence_length_variance</th>\n",
       "      <th>combined</th>\n",
       "      <th>spelling_errors</th>\n",
       "      <th>tokens</th>\n",
       "      <th>num_words</th>\n",
       "    </tr>\n",
       "  </thead>\n",
       "  <tbody>\n",
       "    <tr>\n",
       "      <th>2</th>\n",
       "      <td>![31050144-interior-of-busy-architect-s-office...</td>\n",
       "      <td>2018-01-15 21:17:42</td>\n",
       "      <td>(ankunda, get-a-skill-not-qualifications)</td>\n",
       "      <td>0.000</td>\n",
       "      <td>(get, get, a, skill, not, qualifications)</td>\n",
       "      <td>\"Get a Skill not Qualifications \"</td>\n",
       "      <td>\\nLast month I was part of the interview panel...</td>\n",
       "      <td>13</td>\n",
       "      <td>6452</td>\n",
       "      <td>en</td>\n",
       "      <td>[Last month I was part of the interview panel ...</td>\n",
       "      <td>47.522388</td>\n",
       "      <td>5803.995767</td>\n",
       "      <td>get a skill not qualifications last month i wa...</td>\n",
       "      <td>60</td>\n",
       "      <td>[get, a, skill, not, qualifications, last, mon...</td>\n",
       "      <td>1154</td>\n",
       "    </tr>\n",
       "    <tr>\n",
       "      <th>3</th>\n",
       "      <td>![images (17).jpg](https://steemitimages.com/D...</td>\n",
       "      <td>2018-01-15 21:17:51</td>\n",
       "      <td>(belemo, getting-over-story-part-4-blind-and-d...</td>\n",
       "      <td>0.000</td>\n",
       "      <td>(stach, stach, story, love, writing, blog)</td>\n",
       "      <td>Getting Over(Story) Part 4: Blind and Disillus...</td>\n",
       "      <td>\\nLove oh love, sweet like wine made from fres...</td>\n",
       "      <td>5</td>\n",
       "      <td>2488</td>\n",
       "      <td>en</td>\n",
       "      <td>[Love oh love, sweet like wine made from fresh...</td>\n",
       "      <td>129.736842</td>\n",
       "      <td>5953.141274</td>\n",
       "      <td>getting overstory part 4 blind and disillusion...</td>\n",
       "      <td>13</td>\n",
       "      <td>[getting, overstory, part, 4, blind, and, disi...</td>\n",
       "      <td>488</td>\n",
       "    </tr>\n",
       "    <tr>\n",
       "      <th>5</th>\n",
       "      <td>When everyone was sealing Neo after the ICO  b...</td>\n",
       "      <td>2018-01-15 21:15:09</td>\n",
       "      <td>(modemser, neo-is-like-the-neo-in-matrix-man)</td>\n",
       "      <td>33.189</td>\n",
       "      <td>(kr, kr, steemit, cryptocurrency, money, crypto)</td>\n",
       "      <td>Neo is like  Neo in Matrix</td>\n",
       "      <td>When everyone was sealing Neo after the ICO  b...</td>\n",
       "      <td>5</td>\n",
       "      <td>1408</td>\n",
       "      <td>en</td>\n",
       "      <td>[When everyone was sealing Neo after the ICO  ...</td>\n",
       "      <td>80.176471</td>\n",
       "      <td>5791.910035</td>\n",
       "      <td>neo is like neo in matrix when everyone was se...</td>\n",
       "      <td>83</td>\n",
       "      <td>[neo, is, like, neo, in, matrix, when, everyon...</td>\n",
       "      <td>219</td>\n",
       "    </tr>\n",
       "    <tr>\n",
       "      <th>7</th>\n",
       "      <td>![](https://steemitimages.com/DQmZL4fFGuEnrT2v...</td>\n",
       "      <td>2018-01-15 21:18:00</td>\n",
       "      <td>(mbadayee, does-buddhism-hold-a-pessimistic-view)</td>\n",
       "      <td>0.000</td>\n",
       "      <td>(art, art, photo, beauty, stach, busy)</td>\n",
       "      <td>Does Buddhism Hold A Pessimistic View?</td>\n",
       "      <td>\\nAdditionally, note that using allcolumn or d...</td>\n",
       "      <td>5</td>\n",
       "      <td>5003</td>\n",
       "      <td>en</td>\n",
       "      <td>[Additionally, note that using allcolumn or di...</td>\n",
       "      <td>95.153846</td>\n",
       "      <td>3541.899408</td>\n",
       "      <td>does buddhism hold a pessimistic view addition...</td>\n",
       "      <td>19</td>\n",
       "      <td>[does, buddhism, hold, a, pessimistic, view, a...</td>\n",
       "      <td>857</td>\n",
       "    </tr>\n",
       "    <tr>\n",
       "      <th>10</th>\n",
       "      <td>mermaid: - The evidence of the mermaid is foun...</td>\n",
       "      <td>2018-01-11 17:45:51</td>\n",
       "      <td>(nitinaryan, the-real-mermaid-feabaa3eae2d)</td>\n",
       "      <td>0.552</td>\n",
       "      <td>(mermaid, mermaid, tech, fish)</td>\n",
       "      <td>the real mermaid</td>\n",
       "      <td>mermaid  The evidence of the mermaid is found ...</td>\n",
       "      <td>3</td>\n",
       "      <td>1569</td>\n",
       "      <td>en</td>\n",
       "      <td>[mermaid  The evidence of the mermaid is found...</td>\n",
       "      <td>64.000000</td>\n",
       "      <td>939.043478</td>\n",
       "      <td>the real mermaid mermaid the evidence of the m...</td>\n",
       "      <td>7</td>\n",
       "      <td>[the, real, mermaid, mermaid, the, evidence, o...</td>\n",
       "      <td>295</td>\n",
       "    </tr>\n",
       "  </tbody>\n",
       "</table>\n",
       "</div>"
      ],
      "text/plain": [
       "                                                 body          created_at  \\\n",
       "2   ![31050144-interior-of-busy-architect-s-office... 2018-01-15 21:17:42   \n",
       "3   ![images (17).jpg](https://steemitimages.com/D... 2018-01-15 21:17:51   \n",
       "5   When everyone was sealing Neo after the ICO  b... 2018-01-15 21:15:09   \n",
       "7   ![](https://steemitimages.com/DQmZL4fFGuEnrT2v... 2018-01-15 21:18:00   \n",
       "10  mermaid: - The evidence of the mermaid is foun... 2018-01-11 17:45:51   \n",
       "\n",
       "                                                 post  reward  \\\n",
       "2           (ankunda, get-a-skill-not-qualifications)   0.000   \n",
       "3   (belemo, getting-over-story-part-4-blind-and-d...   0.000   \n",
       "5       (modemser, neo-is-like-the-neo-in-matrix-man)  33.189   \n",
       "7   (mbadayee, does-buddhism-hold-a-pessimistic-view)   0.000   \n",
       "10        (nitinaryan, the-real-mermaid-feabaa3eae2d)   0.552   \n",
       "\n",
       "                                                tags  \\\n",
       "2          (get, get, a, skill, not, qualifications)   \n",
       "3         (stach, stach, story, love, writing, blog)   \n",
       "5   (kr, kr, steemit, cryptocurrency, money, crypto)   \n",
       "7             (art, art, photo, beauty, stach, busy)   \n",
       "10                    (mermaid, mermaid, tech, fish)   \n",
       "\n",
       "                                                title  \\\n",
       "2                   \"Get a Skill not Qualifications \"   \n",
       "3   Getting Over(Story) Part 4: Blind and Disillus...   \n",
       "5                          Neo is like  Neo in Matrix   \n",
       "7              Does Buddhism Hold A Pessimistic View?   \n",
       "10                                   the real mermaid   \n",
       "\n",
       "                                        filtered_body  paragraphs  length  \\\n",
       "2   \\nLast month I was part of the interview panel...          13    6452   \n",
       "3   \\nLove oh love, sweet like wine made from fres...           5    2488   \n",
       "5   When everyone was sealing Neo after the ICO  b...           5    1408   \n",
       "7   \\nAdditionally, note that using allcolumn or d...           5    5003   \n",
       "10  mermaid  The evidence of the mermaid is found ...           3    1569   \n",
       "\n",
       "   language                                 filtered_sentences  \\\n",
       "2        en  [Last month I was part of the interview panel ...   \n",
       "3        en  [Love oh love, sweet like wine made from fresh...   \n",
       "5        en  [When everyone was sealing Neo after the ICO  ...   \n",
       "7        en  [Additionally, note that using allcolumn or di...   \n",
       "10       en  [mermaid  The evidence of the mermaid is found...   \n",
       "\n",
       "    average_sentence_length  sentence_length_variance  \\\n",
       "2                 47.522388               5803.995767   \n",
       "3                129.736842               5953.141274   \n",
       "5                 80.176471               5791.910035   \n",
       "7                 95.153846               3541.899408   \n",
       "10                64.000000                939.043478   \n",
       "\n",
       "                                             combined  spelling_errors  \\\n",
       "2   get a skill not qualifications last month i wa...               60   \n",
       "3   getting overstory part 4 blind and disillusion...               13   \n",
       "5   neo is like neo in matrix when everyone was se...               83   \n",
       "7   does buddhism hold a pessimistic view addition...               19   \n",
       "10  the real mermaid mermaid the evidence of the m...                7   \n",
       "\n",
       "                                               tokens  num_words  \n",
       "2   [get, a, skill, not, qualifications, last, mon...       1154  \n",
       "3   [getting, overstory, part, 4, blind, and, disi...        488  \n",
       "5   [neo, is, like, neo, in, matrix, when, everyon...        219  \n",
       "7   [does, buddhism, hold, a, pessimistic, view, a...        857  \n",
       "10  [the, real, mermaid, mermaid, the, evidence, o...        295  "
      ]
     },
     "execution_count": 29,
     "metadata": {},
     "output_type": "execute_result"
    }
   ],
   "source": [
    "np.random.seed(1)\n",
    "train_mask = np.random.rand(len(final_df)) < 0.8\n",
    "test_mask = ~train_mask\n",
    "train_df = final_df.loc[train_mask]\n",
    "test_df = final_df.loc[test_mask]\n",
    "train_df.head()"
   ]
  },
  {
   "cell_type": "code",
   "execution_count": 30,
   "metadata": {},
   "outputs": [],
   "source": [
    "train_tokens = train_df.tokens\n",
    "test_tokens = test_df.tokens"
   ]
  },
  {
   "cell_type": "code",
   "execution_count": 31,
   "metadata": {},
   "outputs": [
    {
     "name": "stdout",
     "output_type": "stream",
     "text": [
      "Filtering extremes of dict with length 171584\n",
      "New size of dictionary 31358\n"
     ]
    }
   ],
   "source": [
    "dictionary = corpora.Dictionary(train_tokens)\n",
    "print('Filtering extremes of dict with length {}'.format(len(dictionary)))\n",
    "dictionary.filter_extremes(no_below=5, no_above=0.33)\n",
    "print('New size of dictionary {}'.format(len(dictionary)))\n",
    "train_corpus = [dictionary.doc2bow(text) for text in train_tokens]\n",
    "test_corpus = [dictionary.doc2bow(text) for text in test_tokens]"
   ]
  },
  {
   "cell_type": "code",
   "execution_count": 103,
   "metadata": {},
   "outputs": [],
   "source": [
    "NUM_TOPICS = 100\n",
    "lsi = LsiModel(train_corpus, num_topics=NUM_TOPICS)"
   ]
  },
  {
   "cell_type": "code",
   "execution_count": 104,
   "metadata": {},
   "outputs": [],
   "source": [
    "train_projection = lsi[train_corpus]\n",
    "test_projection = lsi[test_corpus]"
   ]
  },
  {
   "cell_type": "code",
   "execution_count": 105,
   "metadata": {},
   "outputs": [],
   "source": [
    "def combine_X_data(lsiprojection, body_length, paragraphs, num_words, spelling_mistakes, \n",
    "                  average_sentence_length, sentence_length_variance):\n",
    "    ntopics = len(lsiprojection[1])\n",
    "    X = np.zeros((len(body_length), ntopics + 9))\n",
    "    X[:, 0:ntopics]  = corpus2dense(lsiprojection, len(lsiprojection[1])).T\n",
    "    X[:, -1] = body_length\n",
    "    X[:, -2] = paragraphs\n",
    "    X[:, -3] = num_words\n",
    "    X[:, -4] = spelling_mistakes\n",
    "    X[:, -5] = body_length / num_words\n",
    "    X[:, -6] = num_words / paragraphs\n",
    "    X[:, -7] = spelling_mistakes / num_words\n",
    "    X[:, -8] = average_sentence_length\n",
    "    X[:, -9] = sentence_length_variance\n",
    "    return X"
   ]
  },
  {
   "cell_type": "code",
   "execution_count": 106,
   "metadata": {},
   "outputs": [
    {
     "data": {
      "text/plain": [
       "(array([[ 9.69344199e-01,  1.87147255e+01,  5.17872667e+00, ...,\n",
       "          1.15400000e+03,  1.30000000e+01,  6.45200000e+03],\n",
       "        [ 1.34267777e-01,  1.49811735e+01,  1.05465183e+01, ...,\n",
       "          4.88000000e+02,  5.00000000e+00,  2.48800000e+03],\n",
       "        [ 3.12234104e-01,  2.30090618e+00, -8.54095399e-01, ...,\n",
       "          2.19000000e+02,  5.00000000e+00,  1.40800000e+03],\n",
       "        ...,\n",
       "        [ 1.57745445e+00,  6.12002945e+00, -2.23980713e+00, ...,\n",
       "          5.85000000e+02,  1.20000000e+01,  3.48600000e+03],\n",
       "        [ 2.05192709e+00,  8.18592262e+00, -1.88543167e+01, ...,\n",
       "          4.18000000e+02,  1.60000000e+01,  3.42500000e+03],\n",
       "        [ 6.12906516e-02,  2.26315665e+00, -1.06722474e+00, ...,\n",
       "          3.89000000e+02,  2.60000000e+01,  2.49500000e+03]]),\n",
       " array([ 0.   ,  0.   , 33.189, ...,  0.214,  0.   , 22.22 ]))"
      ]
     },
     "execution_count": 106,
     "metadata": {},
     "output_type": "execute_result"
    }
   ],
   "source": [
    "X = combine_X_data(train_projection, train_df.length, \n",
    "                   train_df.paragraphs, train_df.num_words, train_df.spelling_errors,\n",
    "                  train_df.average_sentence_length, train_df.sentence_length_variance)\n",
    "y = train_df.reward.values.astype(float)\n",
    "X,y"
   ]
  },
  {
   "cell_type": "code",
   "execution_count": 107,
   "metadata": {},
   "outputs": [
    {
     "data": {
      "text/plain": [
       "(array([[ 2.27268729e-02,  1.18526721e+00, -8.80281627e-02, ...,\n",
       "          2.35000000e+02,  7.00000000e+00,  1.30500000e+03],\n",
       "        [ 4.59578447e-02,  2.64207602e+00,  2.10098922e-02, ...,\n",
       "          3.28000000e+02,  6.00000000e+00,  1.76600000e+03],\n",
       "        [ 5.39351851e-02,  2.05534744e+00, -1.81949794e+00, ...,\n",
       "          2.04000000e+02,  5.00000000e+00,  1.07600000e+03],\n",
       "        ...,\n",
       "        [ 5.24931327e-02,  2.05785799e+00, -1.33078313e+00, ...,\n",
       "          1.81000000e+02,  7.00000000e+00,  1.09100000e+03],\n",
       "        [ 1.12479019e+00,  6.10666885e+01,  3.02878799e+01, ...,\n",
       "          1.88500000e+03,  4.80000000e+01,  1.01830000e+04],\n",
       "        [ 3.00360203e+00,  1.20533241e+02,  3.38389931e+01, ...,\n",
       "          9.67200000e+03,  9.00000000e+00,  5.67710000e+04]]),\n",
       " array([0.00000e+00, 9.79000e-01, 1.30000e+00, ..., 9.34000e-01,\n",
       "        5.70322e+02, 3.20000e-02]))"
      ]
     },
     "execution_count": 107,
     "metadata": {},
     "output_type": "execute_result"
    }
   ],
   "source": [
    "X_test = combine_X_data(test_projection, test_df.length, test_df.paragraphs,\n",
    "                       test_df.num_words, test_df.spelling_errors,\n",
    "                       test_df.average_sentence_length, test_df.sentence_length_variance)\n",
    "y_test = test_df.reward.values.astype(float)\n",
    "X_test,y_test"
   ]
  },
  {
   "cell_type": "code",
   "execution_count": 108,
   "metadata": {},
   "outputs": [],
   "source": [
    "model = RandomForestRegressor(n_estimators=200, max_leaf_nodes=1000, \n",
    "                              max_features=0.1, n_jobs=-1, verbose=1,\n",
    "                              random_state=42)"
   ]
  },
  {
   "cell_type": "code",
   "execution_count": 109,
   "metadata": {},
   "outputs": [
    {
     "name": "stderr",
     "output_type": "stream",
     "text": [
      "[Parallel(n_jobs=-1)]: Done  42 tasks      | elapsed:    2.2s\n",
      "[Parallel(n_jobs=-1)]: Done 192 tasks      | elapsed:    8.8s\n",
      "[Parallel(n_jobs=-1)]: Done 200 out of 200 | elapsed:    9.1s finished\n"
     ]
    }
   ],
   "source": [
    "model = model.fit(X,y)"
   ]
  },
  {
   "cell_type": "code",
   "execution_count": 110,
   "metadata": {},
   "outputs": [
    {
     "name": "stderr",
     "output_type": "stream",
     "text": [
      "[Parallel(n_jobs=4)]: Done  42 tasks      | elapsed:    0.0s\n",
      "[Parallel(n_jobs=4)]: Done 192 tasks      | elapsed:    0.2s\n",
      "[Parallel(n_jobs=4)]: Done 200 out of 200 | elapsed:    0.2s finished\n"
     ]
    },
    {
     "data": {
      "text/plain": [
       "0.9119864661875596"
      ]
     },
     "execution_count": 110,
     "metadata": {},
     "output_type": "execute_result"
    }
   ],
   "source": [
    "model.score(X, y)"
   ]
  },
  {
   "cell_type": "code",
   "execution_count": 111,
   "metadata": {},
   "outputs": [
    {
     "name": "stderr",
     "output_type": "stream",
     "text": [
      "[Parallel(n_jobs=4)]: Done  42 tasks      | elapsed:    0.1s\n",
      "[Parallel(n_jobs=4)]: Done 192 tasks      | elapsed:    0.2s\n",
      "[Parallel(n_jobs=4)]: Done 200 out of 200 | elapsed:    0.2s finished\n"
     ]
    }
   ],
   "source": [
    "y_hat = model.predict(X)"
   ]
  },
  {
   "cell_type": "code",
   "execution_count": 112,
   "metadata": {},
   "outputs": [
    {
     "name": "stderr",
     "output_type": "stream",
     "text": [
      "[Parallel(n_jobs=4)]: Done  42 tasks      | elapsed:    0.0s\n",
      "[Parallel(n_jobs=4)]: Done 192 tasks      | elapsed:    0.1s\n",
      "[Parallel(n_jobs=4)]: Done 200 out of 200 | elapsed:    0.1s finished\n"
     ]
    },
    {
     "data": {
      "text/plain": [
       "0.2306118613145549"
      ]
     },
     "execution_count": 112,
     "metadata": {},
     "output_type": "execute_result"
    }
   ],
   "source": [
    "model.score(X_test, y_test)"
   ]
  },
  {
   "cell_type": "code",
   "execution_count": 113,
   "metadata": {},
   "outputs": [
    {
     "name": "stderr",
     "output_type": "stream",
     "text": [
      "[Parallel(n_jobs=4)]: Done  42 tasks      | elapsed:    0.0s\n",
      "[Parallel(n_jobs=4)]: Done 192 tasks      | elapsed:    0.1s\n",
      "[Parallel(n_jobs=4)]: Done 200 out of 200 | elapsed:    0.1s finished\n"
     ]
    }
   ],
   "source": [
    "y_hat_test = model.predict(X_test)"
   ]
  },
  {
   "cell_type": "markdown",
   "metadata": {},
   "source": [
    "# Data Analysis"
   ]
  },
  {
   "cell_type": "code",
   "execution_count": 114,
   "metadata": {},
   "outputs": [],
   "source": [
    "import matplotlib.pyplot as plt\n",
    "%matplotlib inline"
   ]
  },
  {
   "cell_type": "code",
   "execution_count": 115,
   "metadata": {},
   "outputs": [
    {
     "data": {
      "text/plain": [
       "Text(0.5,1,'Training Set')"
      ]
     },
     "execution_count": 115,
     "metadata": {},
     "output_type": "execute_result"
    },
    {
     "data": {
      "image/png": "[encoded data removed]",
      "text/plain": [
       "<matplotlib.figure.Figure at 0x7f914c04d4e0>"
      ]
     },
     "metadata": {},
     "output_type": "display_data"
    }
   ],
   "source": [
    "plt.figure(figsize=(8,6))\n",
    "plt.scatter(y, y_hat, alpha=0.2)\n",
    "plt.plot(y,y, lw=1.5, c='r')\n",
    "plt.xlim(0,100)\n",
    "plt.ylim(0,100)\n",
    "plt.xlabel('True')\n",
    "plt.ylabel('Predicted')\n",
    "plt.title('Training Set')"
   ]
  },
  {
   "cell_type": "code",
   "execution_count": 116,
   "metadata": {},
   "outputs": [
    {
     "data": {
      "text/plain": [
       "Text(0.5,1,'Test Set')"
      ]
     },
     "execution_count": 116,
     "metadata": {},
     "output_type": "execute_result"
    },
    {
     "data": {
      "image/png": "[encoded data removed]",
      "text/plain": [
       "<matplotlib.figure.Figure at 0x7f9147098f60>"
      ]
     },
     "metadata": {},
     "output_type": "display_data"
    }
   ],
   "source": [
    "plt.figure(figsize=(8,6))\n",
    "plt.scatter(y_test, y_hat_test, alpha=0.2)\n",
    "plt.plot(y_test,y_test, lw=1.5, c='r')\n",
    "plt.xlim(0,100)\n",
    "plt.ylim(0,100)\n",
    "plt.xlabel('True')\n",
    "plt.ylabel('Predicted')\n",
    "plt.title('Test Set')"
   ]
  },
  {
   "cell_type": "code",
   "execution_count": 117,
   "metadata": {},
   "outputs": [
    {
     "data": {
      "image/png": "[encoded data removed]",
      "text/plain": [
       "<matplotlib.figure.Figure at 0x7f914bff12b0>"
      ]
     },
     "metadata": {},
     "output_type": "display_data"
    }
   ],
   "source": [
    "plt.figure(figsize=(16,6))\n",
    "importances = model.feature_importances_\n",
    "ximp = list(range(len(importances)))\n",
    "plt.bar(ximp, importances)\n",
    "plt.xlabel('Feature (topic 0, 1, 2, ..., length, paragraphs, etc)')\n",
    "plt.ylabel('Relative Importance')\n",
    "plt.title('Feature importances')\n",
    "plt.grid()"
   ]
  },
  {
   "cell_type": "code",
   "execution_count": 118,
   "metadata": {
    "scrolled": false
   },
   "outputs": [
    {
     "name": "stdout",
     "output_type": "stream",
     "text": [
      "Topic 0: post: 0.36, latest: 0.35, sp: 0.35, flag: 0.35, hits: 0.35, vp: 0.35, 10: 0.26\n",
      "Topic 1: her: 0.33, she: 0.28, he: 0.27, his: 0.18, href: 0.16, had: 0.14, love: 0.13\n",
      "Topic 2: href: -0.46, her: 0.34, she: 0.29, sbd: -0.24, img: -0.18, market: -0.18, steem: -0.17\n",
      "Topic 3: sbd: -0.67, votes: -0.29, reward: -0.27, href: 0.27, 0000: -0.26, 00: -0.16, img: 0.14\n",
      "Topic 4: 00: -0.97, sbd: 0.13, 001: -0.10, votes: 0.06, reward: 0.06, 0000: 0.06, 002: -0.04\n",
      "Topic 5: market: -0.53, global: -0.27, href: 0.23, report: -0.21, img: 0.16, research: -0.16, her: 0.14\n",
      "Topic 6: pm: 0.73, filipino: 0.52, ng: 0.23, ay: 0.22, ang: 0.15, na: 0.13, sa: 0.10\n",
      "Topic 7: her: -0.41, she: -0.34, market: -0.31, global: -0.18, sbd: -0.17, game: 0.16, mission: 0.14\n",
      "Topic 8: 1944: -0.29, code: -0.26, joined: -0.26, letter: -0.26, mark: -0.25, 1945: -0.24, lf: -0.23\n",
      "Topic 9: he: -0.40, href: 0.40, his: -0.28, her: 0.27, steem: 0.22, she: 0.19, mission: 0.17\n",
      "Topic 10: mission: -0.37, game: -0.32, href: 0.31, steem: 0.25, zombies: -0.23, guys: -0.18, he: 0.15\n",
      "Topic 11: breast: -0.46, cancer: -0.40, he: 0.35, href: 0.26, his: 0.26, mission: 0.17, risk: -0.15\n",
      "Topic 12: breast: 0.46, cancer: 0.40, href: 0.33, he: 0.30, his: 0.23, love: -0.15, steemit: -0.14\n",
      "Topic 13: love: -0.52, bitcoin: 0.38, oh: -0.22, href: -0.17, her: 0.15, im: -0.14, she: 0.13\n",
      "Topic 14: bitcoin: -0.41, steem: 0.40, steemit: 0.21, votes: -0.20, 0000: -0.18, conducted: 0.17, reward: -0.17\n",
      "Topic 15: bitcoin: -0.39, love: -0.25, steem: -0.23, yang: 0.21, mission: -0.18, dan: 0.16, hero: 0.15\n",
      "Topic 16: yang: -0.30, bitcoin: -0.27, dan: -0.24, hero: -0.23, love: -0.22, n: -0.19, ini: -0.17\n",
      "Topic 17: n: 0.39, steem: -0.31, steemit: -0.30, yang: -0.19, y: 0.19, day: 0.16, dan: -0.15\n",
      "Topic 18: n: 0.61, y: 0.29, steem: 0.23, steemit: 0.20, de: 0.17, conducted: -0.15, end: -0.14\n",
      "Topic 19: game: 0.62, 1: -0.39, de: 0.18, 2: -0.16, 3: -0.15, mission: -0.14, games: 0.14\n",
      "Topic 20: steemit: -0.31, game: 0.24, 1: 0.21, project: 0.20, steem: 0.18, bitcoin: -0.17, yang: -0.14\n",
      "Topic 21: de: 0.48, n: -0.28, la: 0.26, game: -0.23, filipino: -0.23, pm: 0.19, steemit: -0.18\n",
      "Topic 22: src: 0.40, img: 0.34, 1: 0.25, steemit: 0.25, n: -0.22, td: 0.21, href: -0.19\n",
      "Topic 23: 1: -0.35, src: 0.27, project: 0.23, img: 0.22, n: 0.21, 2: -0.15, de: -0.15\n",
      "Topic 24: steem: 0.37, steemit: -0.29, img: 0.22, project: -0.20, price: 0.20, src: 0.20, words: -0.16\n",
      "Topic 25: hero: -0.36, skill: -0.34, attack: -0.25, item: -0.18, yang: 0.18, steem: 0.17, magic: -0.13\n",
      "Topic 26: pm: 0.51, filipino: -0.43, ng: -0.20, ay: -0.18, y: -0.16, headache: -0.16, que: -0.14\n",
      "Topic 27: p: 0.52, middot: 0.26, automotive: -0.20, market: 0.18, god: -0.18, share: -0.17, global: -0.17\n",
      "Topic 28: god: 0.43, price: -0.28, jesus: 0.23, p: 0.18, bitcoin: 0.15, life: 0.14, src: 0.13\n",
      "Topic 29: black: -0.28, garlic: -0.25, replies: 0.22, words: 0.20, pm: -0.20, votes: 0.20, steemit: -0.19\n",
      "Topic 30: price: -0.35, god: -0.31, jesus: -0.17, bitcoin: 0.16, td: 0.16, src: 0.14, had: 0.14\n",
      "Topic 31: replies: 0.28, p: 0.26, votes: 0.25, black: 0.24, 1: -0.20, garlic: 0.19, bitcoin: 0.19\n",
      "Topic 32: replies: -0.31, votes: -0.26, automotive: -0.20, report: 0.18, analysis: 0.17, industry: 0.17, price: 0.16\n",
      "Topic 33: replies: -0.38, p: 0.31, votes: -0.31, 1: 0.26, industry: -0.18, automotive: 0.16, middot: 0.14\n",
      "Topic 34: black: 0.50, garlic: 0.45, project: 0.16, words: 0.15, god: 0.14, market: 0.13, crypto: 0.12\n",
      "Topic 35: were: -0.23, steemit: -0.21, had: -0.21, headache: 0.20, yes: 0.16, god: -0.14, want: 0.13\n",
      "Topic 36: headache: 0.28, black: -0.21, water: 0.20, p: -0.18, steemit: 0.18, headaches: 0.16, words: 0.15\n",
      "Topic 37: yes: 0.39, words: -0.28, post: 0.21, god: 0.16, said: 0.15, translated: -0.15, headache: 0.14\n",
      "Topic 38: td: 0.21, blockchain: -0.19, p: -0.18, market: 0.16, real: -0.15, ethics: 0.15, must: 0.14\n",
      "Topic 39: yes: 0.70, plagiarism: 0.25, headache: -0.16, blockchain: -0.13, god: -0.10, bitcoin: 0.10, platform: -0.09\n",
      "Topic 40: week: -0.33, 8: -0.31, challenge: -0.28, again: -0.23, songwriters: -0.22, open: -0.20, would: 0.19\n",
      "Topic 41: his: -0.26, energy: 0.26, he: 0.17, would: 0.17, said: 0.16, power: 0.16, td: 0.13\n",
      "Topic 42: use: 0.17, life: -0.17, image: 0.16, click: 0.15, post: 0.14, blockchain: -0.14, world: -0.12\n",
      "Topic 43: energy: -0.29, said: 0.22, power: -0.20, ethics: 0.17, his: -0.16, 8: 0.15, real: 0.15\n",
      "Topic 44: td: -0.63, src: 0.23, img: 0.19, his: -0.13, were: 0.12, p: -0.12, real: -0.10\n",
      "Topic 45: day: 0.22, headache: -0.17, photo: -0.14, garlic: 0.14, td: 0.14, his: -0.13, yes: 0.13\n",
      "Topic 46: market: -0.28, energy: -0.20, p: 0.20, real: -0.17, estate: -0.15, global: 0.15, cryptocurrency: 0.12\n",
      "Topic 47: said: -0.26, once: 0.17, gamers: 0.15, joanna: 0.14, click: -0.14, image: -0.13, td: -0.13\n",
      "Topic 48: post: 0.30, steemit: -0.21, full: -0.20, image: -0.20, click: -0.19, view: -0.17, screen: -0.17\n",
      "Topic 49: would: 0.24, am: 0.17, his: 0.17, life: -0.16, she: -0.15, td: -0.14, image: 0.14\n",
      "Topic 50: had: -0.23, said: 0.22, image: -0.20, click: -0.19, full: -0.18, screen: -0.18, view: -0.18\n",
      "Topic 51: ethics: 0.28, day: 0.23, said: -0.21, moral: 0.17, good: 0.17, cryptocurrency: -0.16, headache: -0.15\n",
      "Topic 52: said: -0.21, post: -0.21, am: -0.20, steemit: 0.20, image: -0.18, view: -0.18, click: -0.17\n",
      "Topic 53: would: 0.21, had: -0.18, aceh: -0.18, she: -0.17, blockchain: 0.15, life: -0.14, 1: -0.14\n",
      "Topic 54: blockchain: -0.21, im: -0.18, real: 0.16, money: 0.16, day: -0.15, hero: -0.15, platform: -0.14\n",
      "Topic 55: im: -0.26, money: 0.25, card: 0.25, am: 0.23, cryptocurrency: 0.17, would: 0.15, oil: 0.14\n",
      "Topic 56: ethics: -0.23, hero: 0.18, he: 0.17, attack: -0.17, his: -0.16, oil: 0.14, moral: -0.14\n",
      "Topic 57: am: 0.33, his: -0.18, would: 0.17, money: -0.17, card: -0.17, cryptocurrency: -0.17, aceh: 0.14\n",
      "Topic 58: aceh: -0.25, am: 0.22, hero: 0.20, sheikh: -0.20, she: -0.19, oil: 0.18, attack: -0.17\n",
      "Topic 59: am: 0.27, day: -0.21, she: 0.18, doors: 0.16, brain: -0.14, interior: 0.14, attack: 0.14\n",
      "Topic 60: doors: -0.32, interior: -0.29, united: -0.23, states: -0.21, automotive: 0.20, money: 0.18, global: 0.16\n",
      "Topic 61: data: 0.27, hero: 0.19, attack: -0.18, automotive: 0.18, were: -0.16, power: 0.15, daun: 0.14\n",
      "Topic 62: oil: -0.26, day: 0.23, data: 0.22, im: -0.17, doors: 0.14, system: -0.13, interior: 0.12\n",
      "Topic 63: money: 0.29, cryptocurrency: -0.27, card: -0.21, monaco: -0.13, blockchain: 0.13, daun: 0.12, data: -0.12\n",
      "Topic 64: card: -0.29, oil: 0.22, team: -0.17, his: 0.16, monaco: -0.16, cards: -0.15, blockchain: 0.14\n",
      "Topic 65: im: -0.26, energy: 0.25, day: -0.17, said: 0.16, go: 0.16, oil: -0.16, blockchain: -0.14\n",
      "Topic 66: oil: 0.35, data: 0.20, money: 0.15, had: 0.14, acid: 0.14, day: -0.12, water: -0.12\n",
      "Topic 67: 2: 0.29, div: 0.24, day: -0.18, water: 0.18, 1: -0.17, normal: 0.17, times: 0.16\n",
      "Topic 68: would: -0.26, 2: -0.16, said: -0.16, money: -0.15, energy: -0.15, cryptocurrency: 0.15, were: 0.13\n",
      "Topic 69: im: 0.19, life: -0.19, automotive: -0.17, than: 0.16, water: -0.15, value: 0.15, am: 0.13\n",
      "Topic 70: am: -0.31, automotive: -0.23, brain: -0.22, oil: 0.15, go: -0.15, energy: 0.14, system: -0.14\n",
      "Topic 71: go: -0.21, would: -0.19, dont: 0.17, were: 0.16, his: 0.16, data: 0.14, am: 0.14\n",
      "Topic 72: energy: -0.21, system: -0.18, blockchain: 0.16, day: -0.16, power: 0.13, content: 0.13, oil: -0.13\n",
      "Topic 73: im: -0.18, life: -0.17, 1000: -0.16, said: -0.16, 415: 0.15, quarry: 0.15, 9947: 0.15\n",
      "Topic 74: oil: -0.22, go: -0.18, day: -0.17, service: 0.16, automotive: 0.13, read: -0.13, system: -0.12\n",
      "Topic 75: styletextalign: 0.21, aligncenter: 0.21, he: 0.16, life: 0.16, were: 0.15, know: -0.15, year: 0.14\n",
      "Topic 76: go: -0.20, were: -0.15, money: 0.14, oil: -0.14, 2: -0.12, service: -0.12, styletextalign: -0.12\n",
      "Topic 77: data: 0.27, automotive: -0.22, oil: 0.13, service: 0.13, year: -0.12, him: -0.12, source: -0.11\n",
      "Topic 78: would: -0.19, money: -0.18, automotive: 0.16, oil: 0.14, 1000: -0.13, 415: 0.13, quarry: 0.13\n",
      "Topic 79: aligncenter: 0.22, styletextalign: 0.21, 1000: 0.18, quarry: -0.16, 9947: -0.16, 415: -0.16, im: -0.14\n",
      "Topic 80: styletextalign: -0.19, aligncenter: -0.19, said: -0.16, life: -0.15, 1000: 0.14, energy: 0.13, business: 0.13\n",
      "Topic 81: aligncenter: 0.17, styletextalign: 0.16, go: 0.15, were: 0.14, back: -0.14, 3: 0.13, day: -0.13\n",
      "Topic 82: users: -0.22, here: 0.18, system: 0.17, platform: -0.14, solid: -0.14, 1px: -0.13, tr: -0.13\n",
      "Topic 83: styletextalign: 0.16, aligncenter: 0.16, work: -0.14, after: -0.14, man: 0.13, go: 0.12, system: -0.12\n",
      "Topic 84: content: 0.19, after: -0.16, were: -0.16, platform: 0.15, users: 0.14, o: 0.13, world: 0.13\n",
      "Topic 85: him: -0.16, go: 0.15, u: -0.14, 2: -0.14, im: 0.13, 2018: -0.12, aligncenter: 0.12\n",
      "Topic 86: go: 0.20, him: -0.14, good: -0.13, could: 0.13, work: 0.12, want: -0.10, need: 0.10\n",
      "Topic 87: content: -0.23, even: -0.14, stars: -0.13, ocd: -0.12, users: 0.12, after: -0.12, god: -0.12\n",
      "Topic 88: system: -0.27, systems: -0.19, world: 0.17, blockchain: 0.14, users: -0.13, crypto: 0.13, trading: -0.12\n",
      "Topic 89: were: 0.19, water: -0.16, here: -0.15, go: 0.14, im: -0.13, want: -0.13, after: -0.12\n",
      "Topic 90: water: 0.19, video: 0.18, want: 0.17, die: 0.14, 2: -0.14, were: 0.13, und: 0.13\n",
      "Topic 91: undo: -0.22, de: -0.20, want: 0.13, dont: 0.13, world: 0.12, s: -0.12, o: -0.12\n",
      "Topic 92: u: 0.21, th: 0.20, system: -0.15, t: 0.14, go: -0.14, here: -0.14, nd: 0.13\n",
      "Topic 93: after: 0.15, here: 0.15, were: -0.13, should: 0.13, over: -0.12, god: -0.12, children: 0.12\n",
      "Topic 94: she: -0.18, here: -0.16, di: 0.15, jan: -0.15, her: 0.13, go: 0.13, gang: -0.12\n",
      "Topic 95: di: 0.16, social: -0.15, media: -0.14, good: 0.14, great: 0.14, blog: -0.14, street: 0.13\n",
      "Topic 96: were: 0.17, food: 0.16, go: -0.15, she: -0.13, even: -0.13, her: 0.12, love: -0.12\n",
      "Topic 97: here: -0.29, food: -0.19, use: 0.18, platform: -0.14, than: -0.14, wordpress: -0.13, could: -0.12\n",
      "Topic 98: jan: -0.22, water: 0.14, 0500: -0.12, platform: 0.12, di: -0.12, want: -0.12, blockchain: -0.11\n",
      "Topic 99: wordpress: -0.18, gang: 0.15, use: 0.14, cryptocurrency: -0.14, mistake: -0.12, im: -0.11, 24h: -0.11\n"
     ]
    }
   ],
   "source": [
    "for topic in range(lsi.num_topics):\n",
    "    best_words = lsi.show_topic(topic, 7)\n",
    "    inwords = [(dictionary[int(x[0])], x[1]) for x in best_words]\n",
    "    wordstring = ', '.join('{}: {:0.2f}'.format(*x) for x in inwords)\n",
    "    print('Topic {}: {}'.format(topic, wordstring))"
   ]
  },
  {
   "cell_type": "markdown",
   "metadata": {},
   "source": [
    "# Truffles"
   ]
  },
  {
   "cell_type": "code",
   "execution_count": 123,
   "metadata": {},
   "outputs": [],
   "source": [
    "money_filter = (1 <= y_test) & (y_test < 10.)"
   ]
  },
  {
   "cell_type": "code",
   "execution_count": 130,
   "metadata": {},
   "outputs": [],
   "source": [
    "def find_k_worst(y, y_hat, k=10):\n",
    "    return np.argsort(y - y_hat)[:k]"
   ]
  },
  {
   "cell_type": "code",
   "execution_count": 131,
   "metadata": {},
   "outputs": [
    {
     "data": {
      "text/plain": [
       "array([ 97, 429, 545, 401, 330, 245,  98, 586, 529, 568])"
      ]
     },
     "execution_count": 131,
     "metadata": {},
     "output_type": "execute_result"
    }
   ],
   "source": [
    "kworst = find_k_worst(y_test[money_filter], y_hat_test[money_filter])\n",
    "kworst"
   ]
  },
  {
   "cell_type": "code",
   "execution_count": 132,
   "metadata": {
    "scrolled": false
   },
   "outputs": [
    {
     "name": "stdout",
     "output_type": "stream",
     "text": [
      "\n",
      "\n",
      "\n",
      "------- What I Found in The Last Jedi -----\n",
      "https://steemit.com/@talanhorne/what-i-found-in-the-last-jedi\n",
      "Estimated: 57.61894850513609 Reward: 4.064\n",
      "\n",
      "###############################################################################################\n",
      "\n",
      "<em>This post was co-published at <a href=\"https://talanhorne.com/wordpress/?p=4093\">talanhorne.com</a>.</em>\n",
      "\n",
      "I finally did it.\n",
      "\n",
      "It took me a few more weeks than most people, but on Saturday, January 6, I finally saw <em>Star Wars: The Last Jedi</em>.\n",
      "\n",
      "<center><img class=\"wp-image-4094 aligncenter\" src=\"https://talanhorne.com/wordpress/wp-content/uploads/2018/01/Last-Jedi-Rey-Training-1024x576.jpg\" alt=\"\" width=\"501\" height=\"282\" /></center>\n",
      "\n",
      "And this was quite remarkable for me, since I was not certain I was ever going to watch the film. I had heard bad things, from some voices that I respect, and from some I do not. Still, in my case, the idea of shelling out money to see a movie I was not sure I would enjoy is always going to be a long shot.\n",
      "\n",
      "But I am glad I did. I found things in this movie that other people did not find, and I have things to say about it that other people are not saying. Which, when you think about it, is the perfect excuse to make a blog post.\n",
      "<h3>First Things First</h3>\n",
      "<center><img class=\" wp-image-4096 aligncenter\" src=\"https://talanhorne.com/wordpress/wp-content/uploads/2018/01/The-Force-Awakens-Han-and-Chewie.jpg\" alt=\"\" width=\"500\" height=\"250\" /></center>\n",
      "\n",
      "I must start by saying that <em>The Last Jedi</em> in no way redeems, excuses, or justifies the abject failure that was <em>The Force Awakens</em>. There is no version of <em>Star Wars Episode VIII</em> that could make up for the cancer that was the previous movie. In every conceivable reality\n",
      "\n",
      "###############################################################################################\n",
      "\n",
      "\n",
      "\n",
      "\n",
      "------- EAC (European Adoption Consultants): an ignored history of lies, greed and corruption -----\n",
      "https://steemit.com/@honeydue/eac-european-adoption-consultants-an-ignored-history-of-lies-greed-and-corruption\n",
      "Estimated: 50.8187535410779 Reward: 1.057\n",
      "\n",
      "###############################################################################################\n",
      "\n",
      "## This story begins with two good families. \n",
      "\n",
      "A couple of days ago, a news title caught my eye on social media. \n",
      "![Firefox_Screenshot_2018-01-16T15-25-05.581Z.png](https://steemitimages.com/DQmXovSxB37fJssxqDr2n5xuh3P6cEruy6Ynw6uY2mE8v9Z/Firefox_Screenshot_2018-01-16T15-25-05.581Z.png)\n",
      "It told the story of a little girl from Uganda, named Namata (Mata, as she was sometimes called) who was taken at the tender age of five from her loving mother and ~~sold to~~ adopted by an American couple, back in 2015. Jessica and Adam Davis already had a large family, back in Ohio. They were the happy (biological) parents of four children, two boys and two girls, when they decided they wanted to do something good for someone in need. \n",
      "\n",
      ">  They remembered reading Uganda was one of the highest need countries, with almost 3 million orphans.\n",
      "\n",
      "So,  it seemed like a good idea to adopt an orphaned child, from a very poor country. So, they contacted European Adoption Consultants, who soon found them a little girl. Very soon, in fact, almost as if they had just been waiting for someone willing to provide the money...\n",
      "The Davises were told that little Namata's father had died and that her mother was mean and neglectful with her daughter, exactly the sort of unlucky child they wanted to give a home to.\n",
      "They went through stacks of paperwork and immense costs to get that kid. They even flew to Uganda, where they found the little girl in a local orphanage, in a dark room, with bars on the walls. So far, \n",
      "\n",
      "###############################################################################################\n",
      "\n",
      "\n",
      "\n",
      "\n",
      "------- Re-Thinking Curation -----\n",
      "https://steemit.com/@weaselhouse/re-thinking-curation\n",
      "Estimated: 50.52788210688713 Reward: 3.73\n",
      "\n",
      "###############################################################################################\n",
      "\n",
      "Post curation is broken.  I think a lot of new users can agree with me on that.  A single upvote by a whale can make your post more visible than if it were to receive 1,000 upvotes by active community members at a penny each.  Votes can be bought and sold, and the visibility of a post has very little to do with the quality of the content in the post itself, and a lot to do with the poster's connections to powerful people and their ability to use bots effectively.\n",
      "\n",
      "The biggest problem with the current curation model is that it's not based on viewers.  It doesn't matter how many viewers actually enjoyed the content. The only thing that matters is the influence of the accounts who voted on the content - Which might have very little to do with how interesting the content actually is.  \n",
      "\n",
      "Ideally, only four numbers should matter when it comes to content curation (and none of those numbers are the SP of the person casting the vote).  In fact, the four numbers that matter the most are right in front of us on every post:\n",
      "\n",
      "![](https://steemitimages.com/DQmQ3Tns3TXztjiwpGuSo5iwgJJXWL72PD1Zksoy2GUkueU/image.png)\n",
      "\n",
      "* How many times has a post been seen?  \n",
      "* How many upvotes has it gained?  \n",
      "* How many downvotes has it gained?  \n",
      "* How many comments does it have?\n",
      "\n",
      "Using these four numbers, it should be possible  to evaluate the quality of a post.  If something is getting hundreds of views, but has a very low vote and comment rate odds are that it's low quality content.  If something has very\n",
      "\n",
      "###############################################################################################\n",
      "\n",
      "\n",
      "\n",
      "\n",
      "------- Vietnam #2: Harrison Ford & The 200 Grand Baguette! -----\n",
      "https://steemit.com/@adambarratt/vietnam-2-harrison-ford-and-the-200-grand-baguette\n",
      "Estimated: 39.1019110036091 Reward: 1.726\n",
      "\n",
      "###############################################################################################\n",
      "\n",
      "<html>\n",
      "<p><img src=\"http://fortressfree.com/wp-content/uploads/2018/01/TravisB.jpg\"/><br>\n",
      "<em>Car chasing &amp; chasing cards…</em></p>\n",
      "<p><em><strong>Here's the second part part of my Vietnam experience. From that glorious start, this is where it steadily went down hill… &nbsp;(</strong></em><a href=\"https://steemit.com/travel/@adambarratt/mr-saigon-good-afternoon-vietnam\"><em><strong>Part 1 here</strong></em></a><em><strong>)&nbsp;</strong></em></p>\n",
      "<h3><strong>Nha Trang</strong></h3>\n",
      "<p>Nha Trang was my first stop after Ho Chi Minh City.</p>\n",
      "<p>Got the sleeper bus which are a little different to the buses in Thailand. They actually have ‘beds’, rather seats that do recline right back and spaced so they don’t infringe on the person in front/behind.</p>\n",
      "<p>Although a little small for a full sized human they are individual so no-one right next to you. There is an upper level ‘bunk’ and below. A row each side by the window and 1 in the middle. These things do the job although it is a little like a moving hostel dorm.</p>\n",
      "<p>Nha Trang is by the sea. It was great to be by a beach. It reminded me that I do like to be beside the seaside. It was a pleasant enough town, if not hugely overwhelming.</p>\n",
      "<p>First thing I noticed was people exercising down by the beach. There is quite a culture of exercise in Asia but it’s a little different in that it’s not so much of the hard-core stuff but more of the seemingly serene activity.</p>\n",
      "<p>Not explosive running, or weight training etc but\n",
      "\n",
      "###############################################################################################\n",
      "\n",
      "\n",
      "\n",
      "\n",
      "------- 💎JivamuktiStyle: the wheel/ Das Rad ... Ride and Roll WILD🦋 (DE/EN) -----\n",
      "https://steemit.com/@akashas/jivamuktistyle-the-wheel-das-rad-ride-and-roll-wild-de-en\n",
      "Estimated: 38.65353231386002 Reward: 1.307\n",
      "\n",
      "###############################################################################################\n",
      "\n",
      "![E8BDE8A8-9508-40EC-9F09-38E228CCC4B7.jpeg](https://res.cloudinary.com/hpiynhbhq/image/upload/v1516101472/ylpqbw5zlbjuogjexzyj.jpg)\n",
      "Car or human...in a technology world some make no difference...\n",
      "![5885EDD6-1848-48F2-BF11-35AF07156290.jpeg](https://res.cloudinary.com/hpiynhbhq/image/upload/v1516101517/gsq9heyfbbhn2j1vm1v1.jpg)\n",
      "\n",
      "## Das (umgedrehte oder nicht ) Rad....Der Bogen....!\n",
      "_________\n",
      "### Dhanurasana\n",
      "_______\n",
      "धनुरासन (Sanskrit)\n",
      "________\n",
      "Dhanurasana, der Bogen, ist eine sehr intensive Rückbeuge in der Bauchlage.\n",
      "Urdhva Dhanurasana wiederum ist der \"umgedrehte Bogen\"\n",
      "(auch Chakrasana/ Rad-Energierad-Chakra genannt)\n",
      "_________\n",
      "## *The arch*\n",
      "______\n",
      "### Dhanurasana\n",
      "______\n",
      "धनुरासन (Sanskrit)\n",
      "________\n",
      "Dhanurasana, the bow is a very intense back flexion in the prone position.\n",
      "\n",
      "Urdhva Dhanurasana again is the \"inverted arch\"\n",
      "(also Chakrasana / wheel power wheel chakra called)*\n",
      "_______\n",
      "\n",
      "![C7967C3F-06DA-466D-8DBA-51D116ACEBDF.jpeg](https://res.cloudinary.com/hpiynhbhq/image/upload/v1516101580/yihjs5ljbbdh9algwujx.jpg)\n",
      "\n",
      "![E7735B8C-F7C9-4E2A-B869-CBDEED3E17E5.jpeg](https://res.cloudinary.com/hpiynhbhq/image/upload/v1516101601/zqiovyfq9o80emmkiaoh.jpg)\n",
      "\n",
      "_______\n",
      "Für diese Asana (Haltung) empfehle ich etwas Vorbereitung mit sanfteren, kleineren Rückbeugen.\n",
      "______\n",
      "### immer dran denken:\n",
      "Vom Kleinen zum Großen...!\n",
      "_______\n",
      "*For this Asana (posture), I recommend some preparation with softer, smaller backbends.*\n",
      "_____\n",
      "### *always remember:*\n",
      "*From the small to the great...!*\n",
      "_____\n",
      "\n",
      "![88DB3558\n",
      "\n",
      "###############################################################################################\n",
      "\n",
      "\n",
      "\n",
      "\n",
      "------- STEEMIT GUIDE; WHAT IS STEEM, STEEM POWER AND STEEM DOLLARS -----\n",
      "https://steemit.com/@pasaift/steemit-guide-what-is-steem-steem-power-and-steem-dollars\n",
      "Estimated: 37.44746183945713 Reward: 3.44\n",
      "\n",
      "###############################################################################################\n",
      "\n",
      "![images-4.png](https://res.cloudinary.com/hpiynhbhq/image/upload/v1516048416/xwemukxnmycjabyigemf.png) [Credit](google.com)\n",
      "\n",
      "Hello guys, @pasaift here. \n",
      "I remember writing a few weeks back about not just stopping at getting  people signed up on the steemit platform, but to guide them and give proper orientation about survival on steemit and how the platform works. Having  taken care of that last week,  today  I decided to  explain  the  three tokens/ forms of currencies used here on steemit. many may already know this, but I believe that some do not. I say this because most  people chat me up, asking questions relating to this. This post is dedicated to newly registered steemians.\n",
      "\n",
      "Here on steemit, authors are rewarded with the following; steem and steem dollars. There is another form called steem power. All of which are interconvertible. I'd be enlightening us about them. Information regarding steem and steem dollars value/ worth can be found on coinmarketcap.com \n",
      "\n",
      "STEEM\n",
      "![Screenshot_2018-01-15-21-34-43-1.png](https://res.cloudinary.com/hpiynhbhq/image/upload/v1516049154/pekkztpodjakcbe8rtlb.png)\n",
      "\n",
      "Steem is the main currency of this platform, it can be readily exchanged to any other cryptocurrency eg bitcoin and litecoin. It can also be easily transferred to another steemian ie to another person's wallet. This steem can be converted  to steem power by a process called powering up. Powering up is quite simple, all you need to do is click on the small arrow beside your steem, \n",
      "\n",
      "###############################################################################################\n",
      "\n",
      "\n",
      "\n",
      "\n",
      "------- The Shanghai Songbird Part 2 -----\n",
      "https://steemit.com/@cheah/the-shanghai-songbird-part-2\n",
      "Estimated: 39.913188280592685 Reward: 6.792\n",
      "\n",
      "###############################################################################################\n",
      "\n",
      "<center>![](https://steemitimages.com/DQmZs4LUDLaUbAhbX2QEDfphyQ4mUZ4yAkAX3wdwAW1uR93/image.png)</center>\n",
      "\n",
      "There was just enough light inside the nightclub to see the stage and nowhere enough to peer into the hearts of men. Lee placed a tiny mirror on the table, no larger than a compact makeup case, trying to make the best of the dim candlelight behind him.\n",
      "\n",
      "Wong didn’t mind. But in their corner booth, the policeman had a good view of the door. Lee was facing the wrong way, by choice. Shanghai might be an international city but mixed bloods always drew attention. Better if people didn’t see his face.\n",
      "\n",
      "At exactly nine in the evening Ouyang Li Yan took to the stage. Her sheer golden cheongsam glittered under the spotlights, its long slits showing off longer legs. She held her head high, regally poised on delicate high heels. Her eyes swept the crowd and landed on Lee’s. She smiled, a blazing sun just for him, and caressed her microphone with a gloved hand.\n",
      "\n",
      "On an unseen signal, the band played. Matching her voice with the deep saxophone, she sang in English.\n",
      "\n",
      "*I knew a boy who loved to play hero / Of his flaws I knew exactly zero / But there’s one thing about him I know / To a beautiful face he’d never say no*\n",
      "\n",
      "Wong nudged Lee’s foot under the table. “I think I see the stalker.”\n",
      "\n",
      "\n",
      "Lee looked at the mirror. “Who?”\n",
      "\n",
      "“At the door. Huge Chinese guy in the cheap brown suit and tattoo on his neck.”\n",
      "\n",
      "Lee adjusted his mirror just so, tracking the suspect. The guy was alone, staring on \n",
      "\n",
      "###############################################################################################\n",
      "\n",
      "\n",
      "\n",
      "\n",
      "------- Contest: Back to Life Project gives You An Opportunity to win 10 SBD As You Show Your Acts of Love -----\n",
      "https://steemit.com/@iconnelly/contest-back-to-life-project-gives-you-an-opportunity-to-win-10-sbd-as-you-show-your-acts-of-love\n",
      "Estimated: 41.05155851832936 Reward: 8.236\n",
      "\n",
      "###############################################################################################\n",
      "\n",
      "\n",
      "https://scontent-lht6-1.xx.fbcdn.net/v/t31.0-8/fr/cp0/e15/q65/10511396_810578278972992_7162087744391259656_o.jpg?efg=eyJpIjoidCJ9&oh=7a26e3e6a3caeb2f8eaa0aede38e976f&oe=5AB0DE48\n",
      "[Source](Facebook.com/nelsonigboamalu)\n",
      "\n",
      "Back in the days I could easily take shots like the one above, but recently my phone developed some issues, I could hardly open or delete images, I could hardly upload images too. I guess the phone is cry out to me, its #teardrops has reached my ears, I looking for ways to it #backtolife-project.\n",
      "\n",
      "#Teardrops project touched me so much, I have started understudying #SMT its really fascinating even if I am yet to understand it fully.\n",
      "\n",
      "#Backtolife-project is not a competition with #teardrops project, however we do have so many terms to sail in same boat. #backtolife-project is a consolidation of @surpassinggoogle @teardrops project.\n",
      "\n",
      "We believe so much in the tears, however as noted by @surpassinggoogle, tears of joy at last is our watched word. When people cry, someone must help them dry their tears, this is what @surpassinggoogle does, however, we want to go a bit further; after drying the tears, we want to take the actions in loving them back to life, putting happiness in their minds.\n",
      "\n",
      "**Building on consolidated Efforts**\n",
      "\n",
      "After the post of my @teardrops token post of @surpassinggoogle, I have been in talks with several people @futurethinker, @charms29, @kingernie @jaynie @abujasteem @izzreal @chijiokecj @fatherfaith @gerel @anjiba @dante31, some are yet to giv\n",
      "\n",
      "###############################################################################################\n",
      "\n",
      "\n",
      "\n",
      "\n",
      "------- Contest: Back to Life Project gives You An Opportunity to win 10 SBD As You Show Your Acts of Love -----\n",
      "https://steemit.com/@iconnelly/contest-back-to-life-project-gives-you-an-opportunity-to-win-10-sbd-as-you-show-your-acts-of-love\n",
      "Estimated: 41.05155851832936 Reward: 8.236\n",
      "\n",
      "###############################################################################################\n",
      "\n",
      "\n",
      "https://scontent-lht6-1.xx.fbcdn.net/v/t31.0-8/fr/cp0/e15/q65/10511396_810578278972992_7162087744391259656_o.jpg?efg=eyJpIjoidCJ9&oh=7a26e3e6a3caeb2f8eaa0aede38e976f&oe=5AB0DE48\n",
      "[Source](Facebook.com/nelsonigboamalu)\n",
      "\n",
      "Back in the days I could easily take shots like the one above, but recently my phone developed some issues, I could hardly open or delete images, I could hardly upload images too. I guess the phone is cry out to me, its #teardrops has reached my ears, I looking for ways to it #backtolife-project.\n",
      "\n",
      "#Teardrops project touched me so much, I have started understudying #SMT its really fascinating even if I am yet to understand it fully.\n",
      "\n",
      "#Backtolife-project is not a competition with #teardrops project, however we do have so many terms to sail in same boat. #backtolife-project is a consolidation of @surpassinggoogle @teardrops project.\n",
      "\n",
      "We believe so much in the tears, however as noted by @surpassinggoogle, tears of joy at last is our watched word. When people cry, someone must help them dry their tears, this is what @surpassinggoogle does, however, we want to go a bit further; after drying the tears, we want to take the actions in loving them back to life, putting happiness in their minds.\n",
      "\n",
      "**Building on consolidated Efforts**\n",
      "\n",
      "After the post of my @teardrops token post of @surpassinggoogle, I have been in talks with several people @futurethinker, @charms29, @kingernie @jaynie @abujasteem @izzreal @chijiokecj @fatherfaith @gerel @anjiba @dante31, some are yet to giv\n",
      "\n",
      "###############################################################################################\n",
      "\n",
      "\n",
      "\n",
      "\n",
      "------- Commentary on the Confucian Analects, Book 4: \"Li Zan\" Part 2/2 -----\n",
      "https://steemit.com/@cmp2020/comentary-on-the-confucian-analects-book-4-li-zan-part-2-2\n",
      "Estimated: 34.87529174688987 Reward: 2.834\n",
      "\n",
      "###############################################################################################\n",
      "\n",
      "Hello everyone! This is a continuation of my commentaries on the Confucian Analects. If you have missed one, all of the previous posts will be linked down below. This post is Book 4: Li Zan Part 2/2.\n",
      "\n",
      "Here is the second half of my commentaries on **Book 4: Li Zan**:\n",
      "https://s23.postimg.org/dwjiujw7f/library_488677_1920.jpg\n",
      "*[Image Source: pixabay.com, License: CCO Public Domain]*\n",
      "\n",
      ">Original text from the Public Domain Confucian Analects (from the 2013 edition of \n",
      "\"The Art of War and Other Classics of Eastern Thought\")\n",
      "@cmp2020 original commentary\n",
      "\n",
      "### Li Zan\n",
      ">XIV\n",
      ">**Advising to self-cultivation**\n",
      ">The Master said, *\"A man should say, I am not concerned that I have no place, I am concerned how I may fit myself for one. I am not concerned that I am not known, I seek to be worthy to be known.\"*\n",
      "\n",
      "Don't worry about outcomes. Worry about your own responsibilities, and the outcomes you seek will fall into place. An example right here on Steemit would be worry about producing quality content, and regards and followers surely will come.\n",
      "\n",
      ">XV\n",
      "> 1. The Master said, *\"Shan my doctrine is that of an all-pervading unity.\"* The disciple Tsang replied, *\"Yes.\"*\n",
      "> 2. The Master went out, and the other disciples asked, saying, *\"What do his words mean?\"* Tsang said, *\"The doctrine of our master is to be true to the principles of our nature and the benevolent exercise of them to others-this and nothing more.\"*\n",
      "\n",
      "Here, Confucius is saying that his beliefs are to follow and practice what your cons\n",
      "\n",
      "###############################################################################################\n",
      "\n"
     ]
    }
   ],
   "source": [
    "tmp = test_df.reset_index()\n",
    "for k in kworst:\n",
    "    print('\\n\\n\\n------- {} -----'.format(test_df.loc[money_filter].title.iloc[k]))\n",
    "    print('https://steemit.com/@{}/{}'.format(*test_df.loc[money_filter].iloc[k].post))\n",
    "    print('Estimated: {} Reward: {}'.format(y_hat_test[money_filter][k], y_test[money_filter][k]))\n",
    "    print('\\n###############################################################################################\\n')\n",
    "    print(test_df[money_filter].iloc[k].body[:1500])\n",
    "    print('\\n###############################################################################################\\n')\n",
    "    "
   ]
  },
  {
   "cell_type": "code",
   "execution_count": null,
   "metadata": {
    "scrolled": true
   },
   "outputs": [],
   "source": []
  },
  {
   "cell_type": "code",
   "execution_count": null,
   "metadata": {},
   "outputs": [],
   "source": []
  },
  {
   "cell_type": "code",
   "execution_count": 55,
   "metadata": {
    "scrolled": false
   },
   "outputs": [
    {
     "name": "stdout",
     "output_type": "stream",
     "text": [
      "appdirs==1.4.3\r\n",
      "bleach==2.1.2\r\n",
      "boto==2.48.0\r\n",
      "boto3==1.5.20\r\n",
      "botocore==1.8.34\r\n",
      "bz2file==0.98\r\n",
      "cachetools==2.0.1\r\n",
      "certifi==2017.7.27.1\r\n",
      "chardet==3.0.4\r\n",
      "cycler==0.10.0\r\n",
      "cymem==1.31.2\r\n",
      "cytoolz==0.8.2\r\n",
      "dateparser==0.6.0\r\n",
      "decorator==4.1.2\r\n",
      "diff-match-patch==20121119\r\n",
      "dill==0.2.7.1\r\n",
      "docutils==0.14\r\n",
      "ecdsa==0.13\r\n",
      "en-core-web-sm==2.0.0\r\n",
      "entrypoints==0.2.3\r\n",
      "ftfy==4.4.3\r\n",
      "funcy==1.9.1\r\n",
      "gensim==3.2.0\r\n",
      "html5lib==1.0.1\r\n",
      "humanize==0.5.1\r\n",
      "idna==2.6\r\n",
      "ijson==2.3\r\n",
      "ipykernel==4.7.0\r\n",
      "ipython==6.2.1\r\n",
      "ipython-genutils==0.2.0\r\n",
      "ipywidgets==7.1.0\r\n",
      "jedi==0.11.1\r\n",
      "Jinja2==2.10\r\n",
      "jmespath==0.9.3\r\n",
      "jsonschema==2.6.0\r\n",
      "jupyter-client==5.2.1\r\n",
      "jupyter-console==5.2.0\r\n",
      "jupyter-core==4.4.0\r\n",
      "langdetect==1.0.7\r\n",
      "language-tool==0.3\r\n",
      "MarkupSafe==1.0\r\n",
      "matplotlib==2.1.2\r\n",
      "maya==0.3.3\r\n",
      "mistune==0.8.3\r\n",
      "msgpack-numpy==0.4.1\r\n",
      "msgpack-python==0.5.1\r\n",
      "murmurhash==0.28.0\r\n",
      "nbconvert==5.3.1\r\n",
      "nbformat==4.4.0\r\n",
      "networkx==2.0\r\n",
      "notebook==5.2.2\r\n",
      "numpy==1.14.0\r\n",
      "pandas==0.22.0\r\n",
      "pandocfilters==1.4.2\r\n",
      "parso==0.1.1\r\n",
      "pathlib==1.0.1\r\n",
      "pendulum==1.3.0\r\n",
      "pexpect==4.3.1\r\n",
      "pickleshare==0.7.4\r\n",
      "pipfile==0.0.2\r\n",
      "plac==0.9.6\r\n",
      "preshed==1.0.0\r\n",
      "prettytable==0.7.2\r\n",
      "prompt-toolkit==1.0.15\r\n",
      "ptyprocess==0.5.2\r\n",
      "pycrypto==2.6.1\r\n",
      "pyemd==0.4.4\r\n",
      "pyenchant==2.0.0\r\n",
      "Pygments==2.2.0\r\n",
      "pylibscrypt==1.6.1\r\n",
      "pyparsing==2.2.0\r\n",
      "Pyphen==0.9.4\r\n",
      "python-dateutil==2.6.1\r\n",
      "python-Levenshtein==0.12.0\r\n",
      "pytz==2017.2\r\n",
      "pytzdata==2017.2.2\r\n",
      "pyzmq==16.0.3\r\n",
      "qtconsole==4.3.1\r\n",
      "regex==2017.4.5\r\n",
      "requests==2.18.4\r\n",
      "ruamel.yaml==0.15.34\r\n",
      "s3transfer==0.1.12\r\n",
      "scikit-learn==0.19.1\r\n",
      "scipy==1.0.0\r\n",
      "scrypt==0.8.0\r\n",
      "simplegeneric==0.8.1\r\n",
      "six==1.11.0\r\n",
      "smart-open==1.5.6\r\n",
      "spacy==2.0.5\r\n",
      "steem==0.18.103\r\n",
      "termcolor==1.1.0\r\n",
      "terminado==0.8.1\r\n",
      "testpath==0.3.1\r\n",
      "textacy==0.5.0\r\n",
      "thinc==6.10.2\r\n",
      "toml==0.9.3\r\n",
      "toolz==0.8.2\r\n",
      "tornado==4.5.3\r\n",
      "tqdm==4.19.5\r\n",
      "traitlets==4.3.2\r\n",
      "tzlocal==1.4\r\n",
      "ujson==1.35\r\n",
      "Unidecode==1.0.22\r\n",
      "urllib3==1.22\r\n",
      "voluptuous==0.10.5\r\n",
      "w3lib==1.18.0\r\n",
      "wcwidth==0.1.7\r\n",
      "webencodings==0.5.1\r\n",
      "widgetsnbextension==3.1.0\r\n",
      "wrapt==1.10.11\r\n"
     ]
    }
   ],
   "source": [
    "!pip freeze"
   ]
  },
  {
   "cell_type": "code",
   "execution_count": null,
   "metadata": {},
   "outputs": [],
   "source": []
  }
 ],
 "metadata": {
  "kernelspec": {
   "display_name": "Python 3",
   "language": "python",
   "name": "python3"
  },
  "language_info": {
   "codemirror_mode": {
    "name": "ipython",
    "version": 3
   },
   "file_extension": ".py",
   "mimetype": "text/x-python",
   "name": "python",
   "nbconvert_exporter": "python",
   "pygments_lexer": "ipython3",
   "version": "3.6.4"
  }
 },
 "nbformat": 4,
 "nbformat_minor": 2
}
